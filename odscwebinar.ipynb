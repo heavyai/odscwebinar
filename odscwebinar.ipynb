{
 "cells": [
  {
   "cell_type": "markdown",
   "metadata": {},
   "source": [
    "# ODSC Webinar: OmniSci and RAPIDS\n",
    "## An End-to-End GPU Data Science Workflow\n",
    "\n",
    "May 30, 2019"
   ]
  },
  {
   "cell_type": "markdown",
   "metadata": {},
   "source": [
    "## 1. Connecting to OmniSciDB (Open Source)\n",
    "https://github.com/omnisci/omniscidb"
   ]
  },
  {
   "cell_type": "code",
   "execution_count": 1,
   "metadata": {},
   "outputs": [],
   "source": [
    "#import pymapd to connect to OmniSci\n",
    "#importing pandas is for convenience with the pd.read_sql method\n",
    "import pymapd\n",
    "import pandas as pd\n",
    "from credentials import credentials"
   ]
  },
  {
   "cell_type": "code",
   "execution_count": 2,
   "metadata": {},
   "outputs": [
    {
     "data": {
      "text/plain": [
       "['free_bike_status', 'station_status']"
      ]
     },
     "execution_count": 2,
     "metadata": {},
     "output_type": "execute_result"
    }
   ],
   "source": [
    "# Connect to OmniSciDB, get list of tables in database\n",
    "conn = pymapd.connect(host=\"localhost\", \n",
    "                      dbname=credentials[\"dbname\"], \n",
    "                      user=credentials[\"user\"], \n",
    "                      password=credentials[\"password\"])\n",
    "\n",
    "conn.get_tables()"
   ]
  },
  {
   "cell_type": "markdown",
   "metadata": {},
   "source": [
    "## 2. Simple query demonstrating data is streaming into OmniSciDB"
   ]
  },
  {
   "cell_type": "code",
   "execution_count": 4,
   "metadata": {},
   "outputs": [
    {
     "name": "stdout",
     "output_type": "stream",
     "text": [
      "CPU times: user 2.56 ms, sys: 0 ns, total: 2.56 ms\n",
      "Wall time: 24 ms\n"
     ]
    }
   ],
   "source": [
    "import datetime\n",
    "from datetime import timedelta\n",
    "\n",
    "# Create start and end timestamps for substitution\n",
    "now_ = datetime.datetime.now()\n",
    "xminsago_ = datetime.datetime.now() - timedelta(minutes=5)\n",
    "\n",
    "# Query counts number of records inserted in the last X number of minutes\n",
    "query = f\"\"\"\n",
    "SELECT \n",
    "date_trunc(minute, accessed_on) accessed_on,\n",
    "COUNT(*) AS records\n",
    "FROM free_bike_status \n",
    "WHERE accessed_on BETWEEN '{xminsago_}' AND '{now_}' \n",
    "GROUP BY 1\n",
    "ORDER BY 1 DESC\n",
    "\"\"\"\n",
    "\n",
    "# OmniSci gets its speed two ways: high GPU bandwidth/core density & compiling queries with LLVM\n",
    "# First run will be slower because query is compiled and/or data streamed to GPU\n",
    "# Second run on will be fast because data already in GPU memory and query compiled, NOT because result is cached\n",
    "%time df = pd.read_sql(query, conn)"
   ]
  },
  {
   "cell_type": "code",
   "execution_count": 5,
   "metadata": {},
   "outputs": [
    {
     "data": {
      "text/html": [
       "<div>\n",
       "<style scoped>\n",
       "    .dataframe tbody tr th:only-of-type {\n",
       "        vertical-align: middle;\n",
       "    }\n",
       "\n",
       "    .dataframe tbody tr th {\n",
       "        vertical-align: top;\n",
       "    }\n",
       "\n",
       "    .dataframe thead th {\n",
       "        text-align: right;\n",
       "    }\n",
       "</style>\n",
       "<table border=\"1\" class=\"dataframe\">\n",
       "  <thead>\n",
       "    <tr style=\"text-align: right;\">\n",
       "      <th></th>\n",
       "      <th>accessed_on</th>\n",
       "      <th>records</th>\n",
       "    </tr>\n",
       "  </thead>\n",
       "  <tbody>\n",
       "    <tr>\n",
       "      <th>0</th>\n",
       "      <td>2019-05-30 15:11:00</td>\n",
       "      <td>12864</td>\n",
       "    </tr>\n",
       "    <tr>\n",
       "      <th>1</th>\n",
       "      <td>2019-05-30 15:10:00</td>\n",
       "      <td>14256</td>\n",
       "    </tr>\n",
       "    <tr>\n",
       "      <th>2</th>\n",
       "      <td>2019-05-30 15:09:00</td>\n",
       "      <td>14270</td>\n",
       "    </tr>\n",
       "    <tr>\n",
       "      <th>3</th>\n",
       "      <td>2019-05-30 15:08:00</td>\n",
       "      <td>14252</td>\n",
       "    </tr>\n",
       "    <tr>\n",
       "      <th>4</th>\n",
       "      <td>2019-05-30 15:07:00</td>\n",
       "      <td>14244</td>\n",
       "    </tr>\n",
       "  </tbody>\n",
       "</table>\n",
       "</div>"
      ],
      "text/plain": [
       "          accessed_on  records\n",
       "0 2019-05-30 15:11:00    12864\n",
       "1 2019-05-30 15:10:00    14256\n",
       "2 2019-05-30 15:09:00    14270\n",
       "3 2019-05-30 15:08:00    14252\n",
       "4 2019-05-30 15:07:00    14244"
      ]
     },
     "execution_count": 5,
     "metadata": {},
     "output_type": "execute_result"
    }
   ],
   "source": [
    "df"
   ]
  },
  {
   "cell_type": "markdown",
   "metadata": {},
   "source": [
    "## 3. Using Ibis for a pandas-like API over billions of records\n",
    "\n",
    "If you're more comfortable using pandas than SQL, you can use Ibis for a similar workflow.<br>\n",
    "https://www.omnisci.com/blog/scaling-pandas-to-the-billions-with-ibis-and-mapd/"
   ]
  },
  {
   "cell_type": "code",
   "execution_count": 6,
   "metadata": {},
   "outputs": [],
   "source": [
    "#ibis is alternate method for querying using pandas-like API\n",
    "import ibis"
   ]
  },
  {
   "cell_type": "code",
   "execution_count": 7,
   "metadata": {},
   "outputs": [
    {
     "data": {
      "text/plain": [
       "['free_bike_status', 'station_status']"
      ]
     },
     "execution_count": 7,
     "metadata": {},
     "output_type": "execute_result"
    }
   ],
   "source": [
    "#connection string similar to pymapd\n",
    "ibiscon = ibis.mapd.connect(host=\"localhost\", \n",
    "                            database=credentials[\"dbname\"], \n",
    "                            user=credentials[\"user\"], \n",
    "                            password=credentials[\"password\"],\n",
    "                            port=6274)\n",
    "\n",
    "#can list tables in similar manner as well\n",
    "ibiscon.list_tables()"
   ]
  },
  {
   "cell_type": "code",
   "execution_count": 8,
   "metadata": {},
   "outputs": [],
   "source": [
    "#create a table reference\n",
    "#this doesn't bring the data local, Ibis is a lazy-execution engine\n",
    "free_bike_status = ibiscon.table('free_bike_status')"
   ]
  },
  {
   "cell_type": "code",
   "execution_count": 59,
   "metadata": {},
   "outputs": [],
   "source": [
    "#get number of bikes in seattle per minute\n",
    "seattle_jumpbike_by_minute = (free_bike_status[['accessed_on', 'baseurl']]\n",
    "                             .filter([free_bike_status.baseurl == \"http://sea.jumpbikes.com/opendata\"])\n",
    "                             .group_by([\"accessed_on\"])\n",
    "                             .aggregate(free_bike_status.baseurl.count().name(\"available_bikes\"))\n",
    "                             .sort_by([(\"accessed_on\", False)])\n",
    "                             )\n",
    "\n",
    "#to see generated query\n",
    "#print(ibiscon.compile(seattle_jumpbike_by_minute))\n",
    "\n",
    "#to see Ibis diagram\n",
    "#seattle_jumpbike_by_minute"
   ]
  },
  {
   "cell_type": "code",
   "execution_count": 60,
   "metadata": {},
   "outputs": [
    {
     "data": {
      "text/plain": [
       "pandas.core.frame.DataFrame"
      ]
     },
     "execution_count": 60,
     "metadata": {},
     "output_type": "execute_result"
    }
   ],
   "source": [
    "#to force execution and return a result as a pandas dataframe\n",
    "seattle_bikes = ibiscon.execute(seattle_jumpbike_by_minute)\n",
    "type(seattle_bikes)"
   ]
  },
  {
   "cell_type": "markdown",
   "metadata": {},
   "source": [
    "## 4. Plot with Altair\n",
    "\n",
    "Because the calculation was done on GPU, we can quickly return the result to pandas and plot with Altair. This is a CPU-transfer, but a small one relative to returning entire Seattle bike-level data, then using pandas, then using Altair"
   ]
  },
  {
   "cell_type": "code",
   "execution_count": 73,
   "metadata": {},
   "outputs": [
    {
     "data": {
      "application/vnd.vegalite.v3+json": {
       "$schema": "https://vega.github.io/schema/vega-lite/v3.2.1.json",
       "config": {
        "mark": {
         "tooltip": null
        },
        "view": {
         "height": 300,
         "width": 400
        }
       },
       "data": {
        "name": "data-252ce086dc4303f309fdc1d4bfec02bb"
       },
       "datasets": {
        "data-252ce086dc4303f309fdc1d4bfec02bb": [
         {
          "accessed_on": "2019-05-30T15:41:00",
          "available_bikes": 1395
         },
         {
          "accessed_on": "2019-05-30T15:40:00",
          "available_bikes": 1393
         },
         {
          "accessed_on": "2019-05-30T15:39:00",
          "available_bikes": 1392
         },
         {
          "accessed_on": "2019-05-30T15:38:00",
          "available_bikes": 1393
         },
         {
          "accessed_on": "2019-05-30T15:37:00",
          "available_bikes": 1393
         },
         {
          "accessed_on": "2019-05-30T15:36:00",
          "available_bikes": 1390
         },
         {
          "accessed_on": "2019-05-30T15:35:00",
          "available_bikes": 1395
         },
         {
          "accessed_on": "2019-05-30T15:34:00",
          "available_bikes": 1396
         },
         {
          "accessed_on": "2019-05-30T15:33:00",
          "available_bikes": 1396
         },
         {
          "accessed_on": "2019-05-30T15:32:00",
          "available_bikes": 1394
         },
         {
          "accessed_on": "2019-05-30T15:31:00",
          "available_bikes": 1395
         },
         {
          "accessed_on": "2019-05-30T15:30:00",
          "available_bikes": 1395
         },
         {
          "accessed_on": "2019-05-30T15:29:00",
          "available_bikes": 1388
         },
         {
          "accessed_on": "2019-05-30T15:28:00",
          "available_bikes": 1392
         },
         {
          "accessed_on": "2019-05-30T15:27:00",
          "available_bikes": 1391
         },
         {
          "accessed_on": "2019-05-30T15:26:00",
          "available_bikes": 1391
         },
         {
          "accessed_on": "2019-05-30T15:25:00",
          "available_bikes": 1392
         },
         {
          "accessed_on": "2019-05-30T15:24:00",
          "available_bikes": 1395
         },
         {
          "accessed_on": "2019-05-30T15:23:00",
          "available_bikes": 1393
         },
         {
          "accessed_on": "2019-05-30T15:22:00",
          "available_bikes": 1397
         },
         {
          "accessed_on": "2019-05-30T15:21:00",
          "available_bikes": 1397
         },
         {
          "accessed_on": "2019-05-30T15:20:00",
          "available_bikes": 1399
         },
         {
          "accessed_on": "2019-05-30T15:19:00",
          "available_bikes": 1396
         },
         {
          "accessed_on": "2019-05-30T15:18:00",
          "available_bikes": 1401
         },
         {
          "accessed_on": "2019-05-30T15:17:00",
          "available_bikes": 1398
         },
         {
          "accessed_on": "2019-05-30T15:16:00",
          "available_bikes": 1392
         },
         {
          "accessed_on": "2019-05-30T15:15:00",
          "available_bikes": 1395
         },
         {
          "accessed_on": "2019-05-30T15:14:00",
          "available_bikes": 1394
         },
         {
          "accessed_on": "2019-05-30T15:13:00",
          "available_bikes": 1396
         },
         {
          "accessed_on": "2019-05-30T15:12:00",
          "available_bikes": 1394
         },
         {
          "accessed_on": "2019-05-30T15:10:00",
          "available_bikes": 1394
         },
         {
          "accessed_on": "2019-05-30T15:09:00",
          "available_bikes": 1399
         },
         {
          "accessed_on": "2019-05-30T15:08:00",
          "available_bikes": 1395
         },
         {
          "accessed_on": "2019-05-30T15:07:00",
          "available_bikes": 1395
         },
         {
          "accessed_on": "2019-05-30T15:06:00",
          "available_bikes": 1393
         },
         {
          "accessed_on": "2019-05-30T15:05:00",
          "available_bikes": 1395
         },
         {
          "accessed_on": "2019-05-30T15:03:00",
          "available_bikes": 1391
         },
         {
          "accessed_on": "2019-05-30T15:02:00",
          "available_bikes": 1393
         },
         {
          "accessed_on": "2019-05-30T15:01:00",
          "available_bikes": 1395
         },
         {
          "accessed_on": "2019-05-30T15:00:00",
          "available_bikes": 1387
         },
         {
          "accessed_on": "2019-05-30T14:59:00",
          "available_bikes": 1388
         },
         {
          "accessed_on": "2019-05-30T14:58:00",
          "available_bikes": 1389
         },
         {
          "accessed_on": "2019-05-30T14:57:00",
          "available_bikes": 1390
         },
         {
          "accessed_on": "2019-05-30T14:56:00",
          "available_bikes": 1387
         },
         {
          "accessed_on": "2019-05-30T14:55:00",
          "available_bikes": 1387
         },
         {
          "accessed_on": "2019-05-30T14:54:00",
          "available_bikes": 1389
         },
         {
          "accessed_on": "2019-05-30T14:53:00",
          "available_bikes": 1393
         },
         {
          "accessed_on": "2019-05-30T14:52:00",
          "available_bikes": 1392
         },
         {
          "accessed_on": "2019-05-30T14:51:00",
          "available_bikes": 1391
         },
         {
          "accessed_on": "2019-05-30T14:50:00",
          "available_bikes": 1397
         },
         {
          "accessed_on": "2019-05-30T14:49:00",
          "available_bikes": 1397
         },
         {
          "accessed_on": "2019-05-30T14:48:00",
          "available_bikes": 1396
         },
         {
          "accessed_on": "2019-05-30T14:47:00",
          "available_bikes": 1396
         },
         {
          "accessed_on": "2019-05-30T14:46:00",
          "available_bikes": 1399
         },
         {
          "accessed_on": "2019-05-30T14:45:00",
          "available_bikes": 1401
         },
         {
          "accessed_on": "2019-05-30T14:44:00",
          "available_bikes": 1409
         },
         {
          "accessed_on": "2019-05-30T14:43:00",
          "available_bikes": 1408
         },
         {
          "accessed_on": "2019-05-30T14:42:00",
          "available_bikes": 1407
         },
         {
          "accessed_on": "2019-05-30T14:41:00",
          "available_bikes": 1408
         },
         {
          "accessed_on": "2019-05-30T14:40:00",
          "available_bikes": 1407
         },
         {
          "accessed_on": "2019-05-30T14:39:00",
          "available_bikes": 1412
         },
         {
          "accessed_on": "2019-05-30T14:38:00",
          "available_bikes": 1415
         },
         {
          "accessed_on": "2019-05-30T14:37:00",
          "available_bikes": 1416
         },
         {
          "accessed_on": "2019-05-30T14:36:00",
          "available_bikes": 1416
         },
         {
          "accessed_on": "2019-05-30T14:35:00",
          "available_bikes": 1418
         },
         {
          "accessed_on": "2019-05-30T14:34:00",
          "available_bikes": 1423
         },
         {
          "accessed_on": "2019-05-30T14:33:00",
          "available_bikes": 1420
         },
         {
          "accessed_on": "2019-05-30T14:32:00",
          "available_bikes": 1417
         },
         {
          "accessed_on": "2019-05-30T14:31:00",
          "available_bikes": 1407
         },
         {
          "accessed_on": "2019-05-30T14:30:00",
          "available_bikes": 1410
         },
         {
          "accessed_on": "2019-05-30T14:29:00",
          "available_bikes": 1412
         },
         {
          "accessed_on": "2019-05-30T14:28:00",
          "available_bikes": 1412
         },
         {
          "accessed_on": "2019-05-30T14:27:00",
          "available_bikes": 1412
         },
         {
          "accessed_on": "2019-05-30T14:25:00",
          "available_bikes": 1417
         },
         {
          "accessed_on": "2019-05-30T14:24:00",
          "available_bikes": 1418
         },
         {
          "accessed_on": "2019-05-30T14:23:00",
          "available_bikes": 1420
         },
         {
          "accessed_on": "2019-05-30T14:22:00",
          "available_bikes": 1425
         },
         {
          "accessed_on": "2019-05-30T14:21:00",
          "available_bikes": 1427
         },
         {
          "accessed_on": "2019-05-30T14:20:00",
          "available_bikes": 1429
         },
         {
          "accessed_on": "2019-05-30T14:19:00",
          "available_bikes": 1430
         },
         {
          "accessed_on": "2019-05-30T14:17:00",
          "available_bikes": 1432
         },
         {
          "accessed_on": "2019-05-30T14:16:00",
          "available_bikes": 1440
         },
         {
          "accessed_on": "2019-05-30T14:15:00",
          "available_bikes": 1441
         },
         {
          "accessed_on": "2019-05-30T14:14:00",
          "available_bikes": 1439
         },
         {
          "accessed_on": "2019-05-30T14:13:00",
          "available_bikes": 1434
         },
         {
          "accessed_on": "2019-05-30T14:12:00",
          "available_bikes": 1435
         },
         {
          "accessed_on": "2019-05-30T14:11:00",
          "available_bikes": 1437
         },
         {
          "accessed_on": "2019-05-30T14:10:00",
          "available_bikes": 1439
         },
         {
          "accessed_on": "2019-05-30T14:08:00",
          "available_bikes": 1437
         },
         {
          "accessed_on": "2019-05-30T14:07:00",
          "available_bikes": 1436
         },
         {
          "accessed_on": "2019-05-30T14:06:00",
          "available_bikes": 1437
         },
         {
          "accessed_on": "2019-05-30T14:05:00",
          "available_bikes": 1439
         },
         {
          "accessed_on": "2019-05-30T14:04:00",
          "available_bikes": 1440
         },
         {
          "accessed_on": "2019-05-30T14:03:00",
          "available_bikes": 1441
         },
         {
          "accessed_on": "2019-05-30T14:02:00",
          "available_bikes": 1442
         },
         {
          "accessed_on": "2019-05-30T14:01:00",
          "available_bikes": 1443
         },
         {
          "accessed_on": "2019-05-30T14:00:00",
          "available_bikes": 1444
         },
         {
          "accessed_on": "2019-05-30T13:58:00",
          "available_bikes": 1443
         },
         {
          "accessed_on": "2019-05-30T13:57:00",
          "available_bikes": 1437
         },
         {
          "accessed_on": "2019-05-30T13:56:00",
          "available_bikes": 1437
         },
         {
          "accessed_on": "2019-05-30T13:55:00",
          "available_bikes": 1436
         },
         {
          "accessed_on": "2019-05-30T13:54:00",
          "available_bikes": 1436
         },
         {
          "accessed_on": "2019-05-30T13:52:00",
          "available_bikes": 1435
         },
         {
          "accessed_on": "2019-05-30T13:51:00",
          "available_bikes": 1438
         },
         {
          "accessed_on": "2019-05-30T13:50:00",
          "available_bikes": 1440
         },
         {
          "accessed_on": "2019-05-30T13:49:00",
          "available_bikes": 1445
         },
         {
          "accessed_on": "2019-05-30T13:48:00",
          "available_bikes": 1446
         },
         {
          "accessed_on": "2019-05-30T13:47:00",
          "available_bikes": 1446
         },
         {
          "accessed_on": "2019-05-30T13:46:00",
          "available_bikes": 1441
         },
         {
          "accessed_on": "2019-05-30T13:45:00",
          "available_bikes": 1442
         },
         {
          "accessed_on": "2019-05-30T13:44:00",
          "available_bikes": 1442
         },
         {
          "accessed_on": "2019-05-30T13:43:00",
          "available_bikes": 1445
         },
         {
          "accessed_on": "2019-05-30T13:42:00",
          "available_bikes": 1448
         },
         {
          "accessed_on": "2019-05-30T13:41:00",
          "available_bikes": 1449
         },
         {
          "accessed_on": "2019-05-30T13:40:00",
          "available_bikes": 1450
         },
         {
          "accessed_on": "2019-05-30T13:39:00",
          "available_bikes": 1449
         },
         {
          "accessed_on": "2019-05-30T13:38:00",
          "available_bikes": 1447
         },
         {
          "accessed_on": "2019-05-30T13:37:00",
          "available_bikes": 1450
         },
         {
          "accessed_on": "2019-05-30T13:36:00",
          "available_bikes": 1450
         },
         {
          "accessed_on": "2019-05-30T13:35:00",
          "available_bikes": 1451
         },
         {
          "accessed_on": "2019-05-30T13:34:00",
          "available_bikes": 1452
         },
         {
          "accessed_on": "2019-05-30T13:33:00",
          "available_bikes": 1450
         },
         {
          "accessed_on": "2019-05-30T13:32:00",
          "available_bikes": 1449
         },
         {
          "accessed_on": "2019-05-30T13:31:00",
          "available_bikes": 1451
         },
         {
          "accessed_on": "2019-05-30T13:30:00",
          "available_bikes": 1452
         },
         {
          "accessed_on": "2019-05-30T13:29:00",
          "available_bikes": 1454
         },
         {
          "accessed_on": "2019-05-30T13:28:00",
          "available_bikes": 1453
         },
         {
          "accessed_on": "2019-05-30T13:26:00",
          "available_bikes": 1452
         },
         {
          "accessed_on": "2019-05-30T13:25:00",
          "available_bikes": 1452
         },
         {
          "accessed_on": "2019-05-30T13:24:00",
          "available_bikes": 1454
         },
         {
          "accessed_on": "2019-05-30T13:23:00",
          "available_bikes": 1453
         },
         {
          "accessed_on": "2019-05-30T13:22:00",
          "available_bikes": 1452
         },
         {
          "accessed_on": "2019-05-30T13:21:00",
          "available_bikes": 1452
         },
         {
          "accessed_on": "2019-05-30T13:19:00",
          "available_bikes": 1453
         },
         {
          "accessed_on": "2019-05-30T13:18:00",
          "available_bikes": 1453
         },
         {
          "accessed_on": "2019-05-30T13:17:00",
          "available_bikes": 1452
         },
         {
          "accessed_on": "2019-05-30T13:16:00",
          "available_bikes": 1454
         },
         {
          "accessed_on": "2019-05-30T13:15:00",
          "available_bikes": 1457
         },
         {
          "accessed_on": "2019-05-30T13:14:00",
          "available_bikes": 1456
         },
         {
          "accessed_on": "2019-05-30T13:12:00",
          "available_bikes": 1456
         },
         {
          "accessed_on": "2019-05-30T13:11:00",
          "available_bikes": 1456
         },
         {
          "accessed_on": "2019-05-30T13:10:00",
          "available_bikes": 1456
         },
         {
          "accessed_on": "2019-05-30T13:09:00",
          "available_bikes": 1457
         },
         {
          "accessed_on": "2019-05-30T13:08:00",
          "available_bikes": 1457
         },
         {
          "accessed_on": "2019-05-30T13:07:00",
          "available_bikes": 1456
         },
         {
          "accessed_on": "2019-05-30T13:06:00",
          "available_bikes": 1456
         },
         {
          "accessed_on": "2019-05-30T13:03:00",
          "available_bikes": 1456
         },
         {
          "accessed_on": "2019-05-30T13:02:00",
          "available_bikes": 1455
         },
         {
          "accessed_on": "2019-05-30T13:01:00",
          "available_bikes": 1455
         },
         {
          "accessed_on": "2019-05-30T13:00:00",
          "available_bikes": 1454
         },
         {
          "accessed_on": "2019-05-30T12:59:00",
          "available_bikes": 1452
         },
         {
          "accessed_on": "2019-05-30T12:58:00",
          "available_bikes": 1451
         },
         {
          "accessed_on": "2019-05-30T12:57:00",
          "available_bikes": 1448
         },
         {
          "accessed_on": "2019-05-30T12:56:00",
          "available_bikes": 1445
         },
         {
          "accessed_on": "2019-05-30T12:55:00",
          "available_bikes": 1445
         },
         {
          "accessed_on": "2019-05-30T12:54:00",
          "available_bikes": 1443
         },
         {
          "accessed_on": "2019-05-30T12:53:00",
          "available_bikes": 1444
         },
         {
          "accessed_on": "2019-05-30T12:52:00",
          "available_bikes": 1446
         },
         {
          "accessed_on": "2019-05-30T12:51:00",
          "available_bikes": 1455
         },
         {
          "accessed_on": "2019-05-30T12:48:00",
          "available_bikes": 1461
         },
         {
          "accessed_on": "2019-05-30T12:47:00",
          "available_bikes": 1460
         },
         {
          "accessed_on": "2019-05-30T12:46:00",
          "available_bikes": 1458
         },
         {
          "accessed_on": "2019-05-30T12:45:00",
          "available_bikes": 1459
         },
         {
          "accessed_on": "2019-05-30T12:44:00",
          "available_bikes": 1460
         },
         {
          "accessed_on": "2019-05-30T12:43:00",
          "available_bikes": 1458
         },
         {
          "accessed_on": "2019-05-30T12:42:00",
          "available_bikes": 1460
         },
         {
          "accessed_on": "2019-05-30T12:40:00",
          "available_bikes": 1462
         },
         {
          "accessed_on": "2019-05-30T12:39:00",
          "available_bikes": 1461
         },
         {
          "accessed_on": "2019-05-30T12:38:00",
          "available_bikes": 1464
         },
         {
          "accessed_on": "2019-05-30T12:37:00",
          "available_bikes": 1464
         },
         {
          "accessed_on": "2019-05-30T12:36:00",
          "available_bikes": 1465
         },
         {
          "accessed_on": "2019-05-30T12:35:00",
          "available_bikes": 1465
         },
         {
          "accessed_on": "2019-05-30T12:34:00",
          "available_bikes": 1465
         },
         {
          "accessed_on": "2019-05-30T12:32:00",
          "available_bikes": 1466
         },
         {
          "accessed_on": "2019-05-30T12:31:00",
          "available_bikes": 1466
         },
         {
          "accessed_on": "2019-05-30T12:30:00",
          "available_bikes": 1465
         },
         {
          "accessed_on": "2019-05-30T12:29:00",
          "available_bikes": 1467
         },
         {
          "accessed_on": "2019-05-30T12:27:00",
          "available_bikes": 1466
         },
         {
          "accessed_on": "2019-05-30T12:26:00",
          "available_bikes": 1466
         },
         {
          "accessed_on": "2019-05-30T12:25:00",
          "available_bikes": 1467
         },
         {
          "accessed_on": "2019-05-30T12:24:00",
          "available_bikes": 1467
         },
         {
          "accessed_on": "2019-05-30T12:23:00",
          "available_bikes": 1467
         },
         {
          "accessed_on": "2019-05-30T12:22:00",
          "available_bikes": 1468
         },
         {
          "accessed_on": "2019-05-30T12:21:00",
          "available_bikes": 1468
         },
         {
          "accessed_on": "2019-05-30T12:20:00",
          "available_bikes": 1468
         },
         {
          "accessed_on": "2019-05-30T12:18:00",
          "available_bikes": 1467
         },
         {
          "accessed_on": "2019-05-30T12:17:00",
          "available_bikes": 1468
         },
         {
          "accessed_on": "2019-05-30T12:16:00",
          "available_bikes": 1469
         },
         {
          "accessed_on": "2019-05-30T12:15:00",
          "available_bikes": 1470
         },
         {
          "accessed_on": "2019-05-30T12:14:00",
          "available_bikes": 1470
         },
         {
          "accessed_on": "2019-05-30T12:13:00",
          "available_bikes": 1468
         },
         {
          "accessed_on": "2019-05-30T12:11:00",
          "available_bikes": 1467
         },
         {
          "accessed_on": "2019-05-30T12:10:00",
          "available_bikes": 1467
         },
         {
          "accessed_on": "2019-05-30T12:09:00",
          "available_bikes": 1467
         },
         {
          "accessed_on": "2019-05-30T12:08:00",
          "available_bikes": 1466
         },
         {
          "accessed_on": "2019-05-30T12:07:00",
          "available_bikes": 1466
         },
         {
          "accessed_on": "2019-05-30T12:06:00",
          "available_bikes": 1465
         },
         {
          "accessed_on": "2019-05-30T12:05:00",
          "available_bikes": 1466
         },
         {
          "accessed_on": "2019-05-30T12:04:00",
          "available_bikes": 1467
         },
         {
          "accessed_on": "2019-05-30T12:03:00",
          "available_bikes": 1467
         },
         {
          "accessed_on": "2019-05-30T12:01:00",
          "available_bikes": 1466
         },
         {
          "accessed_on": "2019-05-30T12:00:00",
          "available_bikes": 1467
         },
         {
          "accessed_on": "2019-05-30T11:59:00",
          "available_bikes": 1467
         },
         {
          "accessed_on": "2019-05-30T11:58:00",
          "available_bikes": 1465
         },
         {
          "accessed_on": "2019-05-30T11:57:00",
          "available_bikes": 1465
         },
         {
          "accessed_on": "2019-05-30T11:56:00",
          "available_bikes": 1464
         },
         {
          "accessed_on": "2019-05-30T11:54:00",
          "available_bikes": 1464
         },
         {
          "accessed_on": "2019-05-30T11:53:00",
          "available_bikes": 1463
         },
         {
          "accessed_on": "2019-05-30T11:52:00",
          "available_bikes": 1465
         },
         {
          "accessed_on": "2019-05-30T11:51:00",
          "available_bikes": 1467
         },
         {
          "accessed_on": "2019-05-30T11:50:00",
          "available_bikes": 1467
         },
         {
          "accessed_on": "2019-05-30T11:48:00",
          "available_bikes": 1466
         },
         {
          "accessed_on": "2019-05-30T11:47:00",
          "available_bikes": 1466
         },
         {
          "accessed_on": "2019-05-30T11:46:00",
          "available_bikes": 1469
         },
         {
          "accessed_on": "2019-05-30T11:45:00",
          "available_bikes": 1469
         },
         {
          "accessed_on": "2019-05-30T11:44:00",
          "available_bikes": 1469
         },
         {
          "accessed_on": "2019-05-30T11:43:00",
          "available_bikes": 1469
         },
         {
          "accessed_on": "2019-05-30T11:42:00",
          "available_bikes": 1469
         },
         {
          "accessed_on": "2019-05-30T11:41:00",
          "available_bikes": 1469
         },
         {
          "accessed_on": "2019-05-30T11:40:00",
          "available_bikes": 1469
         },
         {
          "accessed_on": "2019-05-30T11:39:00",
          "available_bikes": 1469
         },
         {
          "accessed_on": "2019-05-30T11:38:00",
          "available_bikes": 1470
         },
         {
          "accessed_on": "2019-05-30T11:37:00",
          "available_bikes": 1471
         },
         {
          "accessed_on": "2019-05-30T11:36:00",
          "available_bikes": 1471
         },
         {
          "accessed_on": "2019-05-30T11:35:00",
          "available_bikes": 1471
         },
         {
          "accessed_on": "2019-05-30T11:34:00",
          "available_bikes": 1471
         },
         {
          "accessed_on": "2019-05-30T11:33:00",
          "available_bikes": 1471
         },
         {
          "accessed_on": "2019-05-30T11:32:00",
          "available_bikes": 1471
         },
         {
          "accessed_on": "2019-05-30T11:31:00",
          "available_bikes": 1470
         },
         {
          "accessed_on": "2019-05-30T11:30:00",
          "available_bikes": 1470
         },
         {
          "accessed_on": "2019-05-30T11:28:00",
          "available_bikes": 1470
         },
         {
          "accessed_on": "2019-05-30T11:27:00",
          "available_bikes": 1471
         },
         {
          "accessed_on": "2019-05-30T11:26:00",
          "available_bikes": 1471
         },
         {
          "accessed_on": "2019-05-30T11:25:00",
          "available_bikes": 1472
         },
         {
          "accessed_on": "2019-05-30T11:24:00",
          "available_bikes": 1471
         },
         {
          "accessed_on": "2019-05-30T11:23:00",
          "available_bikes": 1472
         },
         {
          "accessed_on": "2019-05-30T11:22:00",
          "available_bikes": 1472
         },
         {
          "accessed_on": "2019-05-30T11:20:00",
          "available_bikes": 1470
         },
         {
          "accessed_on": "2019-05-30T11:19:00",
          "available_bikes": 1471
         },
         {
          "accessed_on": "2019-05-30T11:18:00",
          "available_bikes": 1470
         },
         {
          "accessed_on": "2019-05-30T11:17:00",
          "available_bikes": 1469
         },
         {
          "accessed_on": "2019-05-30T11:16:00",
          "available_bikes": 1467
         },
         {
          "accessed_on": "2019-05-30T11:15:00",
          "available_bikes": 1468
         },
         {
          "accessed_on": "2019-05-30T11:14:00",
          "available_bikes": 1469
         },
         {
          "accessed_on": "2019-05-30T11:13:00",
          "available_bikes": 1468
         },
         {
          "accessed_on": "2019-05-30T11:12:00",
          "available_bikes": 1468
         },
         {
          "accessed_on": "2019-05-30T11:10:00",
          "available_bikes": 1468
         },
         {
          "accessed_on": "2019-05-30T11:09:00",
          "available_bikes": 1468
         },
         {
          "accessed_on": "2019-05-30T11:08:00",
          "available_bikes": 1469
         },
         {
          "accessed_on": "2019-05-30T11:07:00",
          "available_bikes": 1468
         },
         {
          "accessed_on": "2019-05-30T11:06:00",
          "available_bikes": 1469
         },
         {
          "accessed_on": "2019-05-30T11:04:00",
          "available_bikes": 1467
         },
         {
          "accessed_on": "2019-05-30T11:03:00",
          "available_bikes": 1466
         },
         {
          "accessed_on": "2019-05-30T11:02:00",
          "available_bikes": 1466
         },
         {
          "accessed_on": "2019-05-30T11:01:00",
          "available_bikes": 1466
         },
         {
          "accessed_on": "2019-05-30T11:00:00",
          "available_bikes": 1465
         },
         {
          "accessed_on": "2019-05-30T10:59:00",
          "available_bikes": 1464
         },
         {
          "accessed_on": "2019-05-30T10:58:00",
          "available_bikes": 1464
         },
         {
          "accessed_on": "2019-05-30T10:57:00",
          "available_bikes": 1464
         },
         {
          "accessed_on": "2019-05-30T10:56:00",
          "available_bikes": 1463
         },
         {
          "accessed_on": "2019-05-30T10:55:00",
          "available_bikes": 1457
         },
         {
          "accessed_on": "2019-05-30T10:54:00",
          "available_bikes": 1456
         },
         {
          "accessed_on": "2019-05-30T10:53:00",
          "available_bikes": 1457
         },
         {
          "accessed_on": "2019-05-30T10:52:00",
          "available_bikes": 1457
         },
         {
          "accessed_on": "2019-05-30T10:51:00",
          "available_bikes": 1458
         },
         {
          "accessed_on": "2019-05-30T10:50:00",
          "available_bikes": 1457
         },
         {
          "accessed_on": "2019-05-30T10:49:00",
          "available_bikes": 1457
         },
         {
          "accessed_on": "2019-05-30T10:48:00",
          "available_bikes": 1455
         },
         {
          "accessed_on": "2019-05-30T10:46:00",
          "available_bikes": 1455
         },
         {
          "accessed_on": "2019-05-30T10:45:00",
          "available_bikes": 1454
         },
         {
          "accessed_on": "2019-05-30T10:44:00",
          "available_bikes": 1454
         },
         {
          "accessed_on": "2019-05-30T10:43:00",
          "available_bikes": 1453
         },
         {
          "accessed_on": "2019-05-30T10:42:00",
          "available_bikes": 1451
         },
         {
          "accessed_on": "2019-05-30T10:40:00",
          "available_bikes": 1449
         },
         {
          "accessed_on": "2019-05-30T10:39:00",
          "available_bikes": 1448
         },
         {
          "accessed_on": "2019-05-30T10:38:00",
          "available_bikes": 1449
         },
         {
          "accessed_on": "2019-05-30T10:37:00",
          "available_bikes": 1448
         },
         {
          "accessed_on": "2019-05-30T10:36:00",
          "available_bikes": 1448
         },
         {
          "accessed_on": "2019-05-30T10:35:00",
          "available_bikes": 1448
         },
         {
          "accessed_on": "2019-05-30T10:34:00",
          "available_bikes": 1446
         },
         {
          "accessed_on": "2019-05-30T10:33:00",
          "available_bikes": 1444
         },
         {
          "accessed_on": "2019-05-30T10:31:00",
          "available_bikes": 1446
         },
         {
          "accessed_on": "2019-05-30T10:30:00",
          "available_bikes": 1448
         },
         {
          "accessed_on": "2019-05-30T10:29:00",
          "available_bikes": 1450
         },
         {
          "accessed_on": "2019-05-30T10:28:00",
          "available_bikes": 1448
         },
         {
          "accessed_on": "2019-05-30T10:27:00",
          "available_bikes": 1451
         },
         {
          "accessed_on": "2019-05-30T10:26:00",
          "available_bikes": 1451
         },
         {
          "accessed_on": "2019-05-30T10:25:00",
          "available_bikes": 1451
         },
         {
          "accessed_on": "2019-05-30T10:24:00",
          "available_bikes": 1453
         },
         {
          "accessed_on": "2019-05-30T10:23:00",
          "available_bikes": 1455
         },
         {
          "accessed_on": "2019-05-30T10:22:00",
          "available_bikes": 1455
         },
         {
          "accessed_on": "2019-05-30T10:21:00",
          "available_bikes": 1455
         },
         {
          "accessed_on": "2019-05-30T10:20:00",
          "available_bikes": 1455
         },
         {
          "accessed_on": "2019-05-30T10:18:00",
          "available_bikes": 1455
         },
         {
          "accessed_on": "2019-05-30T10:17:00",
          "available_bikes": 1455
         },
         {
          "accessed_on": "2019-05-30T10:16:00",
          "available_bikes": 1451
         },
         {
          "accessed_on": "2019-05-30T10:15:00",
          "available_bikes": 1450
         },
         {
          "accessed_on": "2019-05-30T10:14:00",
          "available_bikes": 1449
         },
         {
          "accessed_on": "2019-05-30T10:13:00",
          "available_bikes": 1449
         },
         {
          "accessed_on": "2019-05-30T10:12:00",
          "available_bikes": 1449
         },
         {
          "accessed_on": "2019-05-30T10:11:00",
          "available_bikes": 1449
         },
         {
          "accessed_on": "2019-05-30T10:10:00",
          "available_bikes": 1449
         },
         {
          "accessed_on": "2019-05-30T10:09:00",
          "available_bikes": 1449
         },
         {
          "accessed_on": "2019-05-30T10:08:00",
          "available_bikes": 1447
         },
         {
          "accessed_on": "2019-05-30T10:07:00",
          "available_bikes": 1447
         },
         {
          "accessed_on": "2019-05-30T10:06:00",
          "available_bikes": 1447
         },
         {
          "accessed_on": "2019-05-30T10:05:00",
          "available_bikes": 1447
         },
         {
          "accessed_on": "2019-05-30T10:04:00",
          "available_bikes": 1447
         },
         {
          "accessed_on": "2019-05-30T10:03:00",
          "available_bikes": 1447
         },
         {
          "accessed_on": "2019-05-30T10:02:00",
          "available_bikes": 1448
         },
         {
          "accessed_on": "2019-05-30T10:01:00",
          "available_bikes": 1448
         },
         {
          "accessed_on": "2019-05-30T10:00:00",
          "available_bikes": 1448
         },
         {
          "accessed_on": "2019-05-30T09:58:00",
          "available_bikes": 1448
         },
         {
          "accessed_on": "2019-05-30T09:57:00",
          "available_bikes": 1448
         },
         {
          "accessed_on": "2019-05-30T09:56:00",
          "available_bikes": 1446
         },
         {
          "accessed_on": "2019-05-30T09:55:00",
          "available_bikes": 1446
         },
         {
          "accessed_on": "2019-05-30T09:54:00",
          "available_bikes": 1446
         },
         {
          "accessed_on": "2019-05-30T09:53:00",
          "available_bikes": 1447
         },
         {
          "accessed_on": "2019-05-30T09:52:00",
          "available_bikes": 1447
         },
         {
          "accessed_on": "2019-05-30T09:51:00",
          "available_bikes": 1448
         },
         {
          "accessed_on": "2019-05-30T09:49:00",
          "available_bikes": 1448
         },
         {
          "accessed_on": "2019-05-30T09:48:00",
          "available_bikes": 1447
         },
         {
          "accessed_on": "2019-05-30T09:47:00",
          "available_bikes": 1445
         },
         {
          "accessed_on": "2019-05-30T09:46:00",
          "available_bikes": 1445
         },
         {
          "accessed_on": "2019-05-30T09:45:00",
          "available_bikes": 1446
         },
         {
          "accessed_on": "2019-05-30T09:44:00",
          "available_bikes": 1446
         },
         {
          "accessed_on": "2019-05-30T09:43:00",
          "available_bikes": 1445
         },
         {
          "accessed_on": "2019-05-30T09:41:00",
          "available_bikes": 1445
         },
         {
          "accessed_on": "2019-05-30T09:40:00",
          "available_bikes": 1445
         },
         {
          "accessed_on": "2019-05-30T09:39:00",
          "available_bikes": 1446
         },
         {
          "accessed_on": "2019-05-30T09:38:00",
          "available_bikes": 1445
         },
         {
          "accessed_on": "2019-05-30T09:37:00",
          "available_bikes": 1446
         },
         {
          "accessed_on": "2019-05-30T09:36:00",
          "available_bikes": 1445
         },
         {
          "accessed_on": "2019-05-30T09:35:00",
          "available_bikes": 1444
         },
         {
          "accessed_on": "2019-05-30T09:34:00",
          "available_bikes": 1444
         },
         {
          "accessed_on": "2019-05-30T09:33:00",
          "available_bikes": 1444
         },
         {
          "accessed_on": "2019-05-30T09:32:00",
          "available_bikes": 1444
         },
         {
          "accessed_on": "2019-05-30T09:31:00",
          "available_bikes": 1444
         },
         {
          "accessed_on": "2019-05-30T09:30:00",
          "available_bikes": 1442
         },
         {
          "accessed_on": "2019-05-30T09:29:00",
          "available_bikes": 1442
         },
         {
          "accessed_on": "2019-05-30T09:28:00",
          "available_bikes": 1442
         },
         {
          "accessed_on": "2019-05-30T09:27:00",
          "available_bikes": 1443
         },
         {
          "accessed_on": "2019-05-30T09:26:00",
          "available_bikes": 1443
         },
         {
          "accessed_on": "2019-05-30T09:25:00",
          "available_bikes": 1443
         },
         {
          "accessed_on": "2019-05-30T09:24:00",
          "available_bikes": 1443
         },
         {
          "accessed_on": "2019-05-30T09:23:00",
          "available_bikes": 1442
         },
         {
          "accessed_on": "2019-05-30T09:22:00",
          "available_bikes": 1441
         },
         {
          "accessed_on": "2019-05-30T09:21:00",
          "available_bikes": 1441
         },
         {
          "accessed_on": "2019-05-30T09:20:00",
          "available_bikes": 1442
         },
         {
          "accessed_on": "2019-05-30T09:19:00",
          "available_bikes": 1441
         },
         {
          "accessed_on": "2019-05-30T09:18:00",
          "available_bikes": 1440
         },
         {
          "accessed_on": "2019-05-30T09:17:00",
          "available_bikes": 1440
         },
         {
          "accessed_on": "2019-05-30T09:16:00",
          "available_bikes": 1440
         },
         {
          "accessed_on": "2019-05-30T09:15:00",
          "available_bikes": 1440
         },
         {
          "accessed_on": "2019-05-30T09:14:00",
          "available_bikes": 1439
         },
         {
          "accessed_on": "2019-05-30T09:13:00",
          "available_bikes": 1438
         },
         {
          "accessed_on": "2019-05-30T09:12:00",
          "available_bikes": 1437
         },
         {
          "accessed_on": "2019-05-30T09:11:00",
          "available_bikes": 1436
         },
         {
          "accessed_on": "2019-05-30T09:10:00",
          "available_bikes": 1436
         },
         {
          "accessed_on": "2019-05-30T09:09:00",
          "available_bikes": 1436
         },
         {
          "accessed_on": "2019-05-30T09:08:00",
          "available_bikes": 1436
         },
         {
          "accessed_on": "2019-05-30T09:07:00",
          "available_bikes": 1436
         },
         {
          "accessed_on": "2019-05-30T09:06:00",
          "available_bikes": 1436
         },
         {
          "accessed_on": "2019-05-30T09:05:00",
          "available_bikes": 1436
         },
         {
          "accessed_on": "2019-05-30T09:04:00",
          "available_bikes": 1435
         },
         {
          "accessed_on": "2019-05-30T09:03:00",
          "available_bikes": 1435
         },
         {
          "accessed_on": "2019-05-30T09:02:00",
          "available_bikes": 1434
         },
         {
          "accessed_on": "2019-05-30T09:01:00",
          "available_bikes": 1433
         },
         {
          "accessed_on": "2019-05-30T09:00:00",
          "available_bikes": 1432
         },
         {
          "accessed_on": "2019-05-30T08:59:00",
          "available_bikes": 1435
         },
         {
          "accessed_on": "2019-05-30T08:58:00",
          "available_bikes": 1436
         },
         {
          "accessed_on": "2019-05-30T08:57:00",
          "available_bikes": 1435
         },
         {
          "accessed_on": "2019-05-30T08:55:00",
          "available_bikes": 1434
         },
         {
          "accessed_on": "2019-05-30T08:54:00",
          "available_bikes": 1434
         },
         {
          "accessed_on": "2019-05-30T08:53:00",
          "available_bikes": 1435
         },
         {
          "accessed_on": "2019-05-30T08:52:00",
          "available_bikes": 1435
         },
         {
          "accessed_on": "2019-05-30T08:51:00",
          "available_bikes": 1435
         },
         {
          "accessed_on": "2019-05-30T08:49:00",
          "available_bikes": 1435
         },
         {
          "accessed_on": "2019-05-30T08:48:00",
          "available_bikes": 1434
         },
         {
          "accessed_on": "2019-05-30T08:47:00",
          "available_bikes": 1433
         },
         {
          "accessed_on": "2019-05-30T08:46:00",
          "available_bikes": 1434
         },
         {
          "accessed_on": "2019-05-30T08:45:00",
          "available_bikes": 1434
         },
         {
          "accessed_on": "2019-05-30T08:44:00",
          "available_bikes": 1434
         },
         {
          "accessed_on": "2019-05-30T08:43:00",
          "available_bikes": 1433
         },
         {
          "accessed_on": "2019-05-30T08:42:00",
          "available_bikes": 1432
         },
         {
          "accessed_on": "2019-05-30T08:41:00",
          "available_bikes": 1432
         },
         {
          "accessed_on": "2019-05-30T08:40:00",
          "available_bikes": 1431
         },
         {
          "accessed_on": "2019-05-30T08:39:00",
          "available_bikes": 1431
         },
         {
          "accessed_on": "2019-05-30T08:38:00",
          "available_bikes": 1432
         },
         {
          "accessed_on": "2019-05-30T08:37:00",
          "available_bikes": 1432
         },
         {
          "accessed_on": "2019-05-30T08:36:00",
          "available_bikes": 1431
         },
         {
          "accessed_on": "2019-05-30T08:35:00",
          "available_bikes": 1428
         },
         {
          "accessed_on": "2019-05-30T08:34:00",
          "available_bikes": 1427
         },
         {
          "accessed_on": "2019-05-30T08:33:00",
          "available_bikes": 1427
         },
         {
          "accessed_on": "2019-05-30T08:31:00",
          "available_bikes": 1425
         },
         {
          "accessed_on": "2019-05-30T08:30:00",
          "available_bikes": 1427
         },
         {
          "accessed_on": "2019-05-30T08:29:00",
          "available_bikes": 1427
         },
         {
          "accessed_on": "2019-05-30T08:28:00",
          "available_bikes": 1428
         },
         {
          "accessed_on": "2019-05-30T08:27:00",
          "available_bikes": 1429
         },
         {
          "accessed_on": "2019-05-30T08:26:00",
          "available_bikes": 1433
         },
         {
          "accessed_on": "2019-05-30T08:25:00",
          "available_bikes": 1433
         },
         {
          "accessed_on": "2019-05-30T08:24:00",
          "available_bikes": 1433
         },
         {
          "accessed_on": "2019-05-30T08:23:00",
          "available_bikes": 1433
         },
         {
          "accessed_on": "2019-05-30T08:22:00",
          "available_bikes": 1433
         },
         {
          "accessed_on": "2019-05-30T08:21:00",
          "available_bikes": 1434
         },
         {
          "accessed_on": "2019-05-30T08:20:00",
          "available_bikes": 1434
         },
         {
          "accessed_on": "2019-05-30T08:19:00",
          "available_bikes": 1434
         },
         {
          "accessed_on": "2019-05-30T08:18:00",
          "available_bikes": 1432
         },
         {
          "accessed_on": "2019-05-30T08:16:00",
          "available_bikes": 1431
         },
         {
          "accessed_on": "2019-05-30T08:15:00",
          "available_bikes": 1431
         },
         {
          "accessed_on": "2019-05-30T08:14:00",
          "available_bikes": 1432
         },
         {
          "accessed_on": "2019-05-30T08:13:00",
          "available_bikes": 1431
         },
         {
          "accessed_on": "2019-05-30T08:12:00",
          "available_bikes": 1429
         },
         {
          "accessed_on": "2019-05-30T08:10:00",
          "available_bikes": 1427
         },
         {
          "accessed_on": "2019-05-30T08:09:00",
          "available_bikes": 1428
         },
         {
          "accessed_on": "2019-05-30T08:08:00",
          "available_bikes": 1426
         },
         {
          "accessed_on": "2019-05-30T08:07:00",
          "available_bikes": 1427
         },
         {
          "accessed_on": "2019-05-30T08:05:00",
          "available_bikes": 1427
         },
         {
          "accessed_on": "2019-05-30T08:04:00",
          "available_bikes": 1426
         },
         {
          "accessed_on": "2019-05-30T08:03:00",
          "available_bikes": 1427
         },
         {
          "accessed_on": "2019-05-30T08:02:00",
          "available_bikes": 1426
         },
         {
          "accessed_on": "2019-05-30T08:01:00",
          "available_bikes": 1425
         },
         {
          "accessed_on": "2019-05-30T08:00:00",
          "available_bikes": 1426
         },
         {
          "accessed_on": "2019-05-30T07:59:00",
          "available_bikes": 1427
         },
         {
          "accessed_on": "2019-05-30T07:58:00",
          "available_bikes": 1427
         },
         {
          "accessed_on": "2019-05-30T07:57:00",
          "available_bikes": 1426
         },
         {
          "accessed_on": "2019-05-30T07:55:00",
          "available_bikes": 1427
         },
         {
          "accessed_on": "2019-05-30T07:54:00",
          "available_bikes": 1429
         },
         {
          "accessed_on": "2019-05-30T07:53:00",
          "available_bikes": 1428
         },
         {
          "accessed_on": "2019-05-30T07:52:00",
          "available_bikes": 1425
         },
         {
          "accessed_on": "2019-05-30T07:51:00",
          "available_bikes": 1424
         },
         {
          "accessed_on": "2019-05-30T07:50:00",
          "available_bikes": 1422
         },
         {
          "accessed_on": "2019-05-30T07:49:00",
          "available_bikes": 1420
         },
         {
          "accessed_on": "2019-05-30T07:48:00",
          "available_bikes": 1420
         },
         {
          "accessed_on": "2019-05-30T07:46:00",
          "available_bikes": 1418
         },
         {
          "accessed_on": "2019-05-30T07:45:00",
          "available_bikes": 1419
         },
         {
          "accessed_on": "2019-05-30T07:44:00",
          "available_bikes": 1418
         },
         {
          "accessed_on": "2019-05-30T07:43:00",
          "available_bikes": 1416
         },
         {
          "accessed_on": "2019-05-30T07:42:00",
          "available_bikes": 1420
         },
         {
          "accessed_on": "2019-05-30T07:41:00",
          "available_bikes": 1423
         },
         {
          "accessed_on": "2019-05-30T07:40:00",
          "available_bikes": 1423
         },
         {
          "accessed_on": "2019-05-30T07:38:00",
          "available_bikes": 1424
         },
         {
          "accessed_on": "2019-05-30T07:37:00",
          "available_bikes": 1422
         },
         {
          "accessed_on": "2019-05-30T07:36:00",
          "available_bikes": 1423
         },
         {
          "accessed_on": "2019-05-30T07:35:00",
          "available_bikes": 1423
         },
         {
          "accessed_on": "2019-05-30T07:34:00",
          "available_bikes": 1422
         },
         {
          "accessed_on": "2019-05-30T07:33:00",
          "available_bikes": 1422
         },
         {
          "accessed_on": "2019-05-30T07:32:00",
          "available_bikes": 1421
         },
         {
          "accessed_on": "2019-05-30T07:31:00",
          "available_bikes": 1420
         },
         {
          "accessed_on": "2019-05-30T07:30:00",
          "available_bikes": 1420
         },
         {
          "accessed_on": "2019-05-30T07:29:00",
          "available_bikes": 1418
         },
         {
          "accessed_on": "2019-05-30T07:27:00",
          "available_bikes": 1417
         },
         {
          "accessed_on": "2019-05-30T07:26:00",
          "available_bikes": 1417
         },
         {
          "accessed_on": "2019-05-30T07:25:00",
          "available_bikes": 1419
         },
         {
          "accessed_on": "2019-05-30T07:24:00",
          "available_bikes": 1420
         },
         {
          "accessed_on": "2019-05-30T07:22:00",
          "available_bikes": 1421
         },
         {
          "accessed_on": "2019-05-30T07:21:00",
          "available_bikes": 1420
         },
         {
          "accessed_on": "2019-05-30T07:20:00",
          "available_bikes": 1419
         },
         {
          "accessed_on": "2019-05-30T07:19:00",
          "available_bikes": 1419
         },
         {
          "accessed_on": "2019-05-30T07:18:00",
          "available_bikes": 1419
         },
         {
          "accessed_on": "2019-05-30T07:17:00",
          "available_bikes": 1417
         },
         {
          "accessed_on": "2019-05-30T07:16:00",
          "available_bikes": 1417
         },
         {
          "accessed_on": "2019-05-30T07:15:00",
          "available_bikes": 1417
         },
         {
          "accessed_on": "2019-05-30T07:14:00",
          "available_bikes": 1416
         },
         {
          "accessed_on": "2019-05-30T07:13:00",
          "available_bikes": 1412
         },
         {
          "accessed_on": "2019-05-30T07:12:00",
          "available_bikes": 1410
         },
         {
          "accessed_on": "2019-05-30T07:11:00",
          "available_bikes": 1413
         },
         {
          "accessed_on": "2019-05-30T07:10:00",
          "available_bikes": 1411
         },
         {
          "accessed_on": "2019-05-30T07:09:00",
          "available_bikes": 1408
         },
         {
          "accessed_on": "2019-05-30T07:08:00",
          "available_bikes": 1409
         },
         {
          "accessed_on": "2019-05-30T07:07:00",
          "available_bikes": 1409
         },
         {
          "accessed_on": "2019-05-30T07:06:00",
          "available_bikes": 1410
         },
         {
          "accessed_on": "2019-05-30T07:05:00",
          "available_bikes": 1409
         },
         {
          "accessed_on": "2019-05-30T07:04:00",
          "available_bikes": 1409
         },
         {
          "accessed_on": "2019-05-30T07:03:00",
          "available_bikes": 1411
         },
         {
          "accessed_on": "2019-05-30T07:02:00",
          "available_bikes": 1414
         },
         {
          "accessed_on": "2019-05-30T07:01:00",
          "available_bikes": 1412
         },
         {
          "accessed_on": "2019-05-30T07:00:00",
          "available_bikes": 1412
         },
         {
          "accessed_on": "2019-05-30T06:58:00",
          "available_bikes": 1412
         },
         {
          "accessed_on": "2019-05-30T06:57:00",
          "available_bikes": 1412
         },
         {
          "accessed_on": "2019-05-30T06:56:00",
          "available_bikes": 1412
         },
         {
          "accessed_on": "2019-05-30T06:55:00",
          "available_bikes": 1411
         },
         {
          "accessed_on": "2019-05-30T06:54:00",
          "available_bikes": 1410
         },
         {
          "accessed_on": "2019-05-30T06:53:00",
          "available_bikes": 1411
         },
         {
          "accessed_on": "2019-05-30T06:52:00",
          "available_bikes": 1411
         },
         {
          "accessed_on": "2019-05-30T06:51:00",
          "available_bikes": 1412
         },
         {
          "accessed_on": "2019-05-30T06:50:00",
          "available_bikes": 1409
         },
         {
          "accessed_on": "2019-05-30T06:48:00",
          "available_bikes": 1409
         },
         {
          "accessed_on": "2019-05-30T06:47:00",
          "available_bikes": 1408
         },
         {
          "accessed_on": "2019-05-30T06:46:00",
          "available_bikes": 1407
         },
         {
          "accessed_on": "2019-05-30T06:45:00",
          "available_bikes": 1407
         },
         {
          "accessed_on": "2019-05-30T06:44:00",
          "available_bikes": 1408
         },
         {
          "accessed_on": "2019-05-30T06:43:00",
          "available_bikes": 1405
         },
         {
          "accessed_on": "2019-05-30T06:42:00",
          "available_bikes": 1404
         },
         {
          "accessed_on": "2019-05-30T06:41:00",
          "available_bikes": 1405
         },
         {
          "accessed_on": "2019-05-30T06:40:00",
          "available_bikes": 1412
         },
         {
          "accessed_on": "2019-05-30T06:38:00",
          "available_bikes": 1411
         },
         {
          "accessed_on": "2019-05-30T06:37:00",
          "available_bikes": 1410
         },
         {
          "accessed_on": "2019-05-30T06:36:00",
          "available_bikes": 1411
         },
         {
          "accessed_on": "2019-05-30T06:35:00",
          "available_bikes": 1412
         },
         {
          "accessed_on": "2019-05-30T06:34:00",
          "available_bikes": 1407
         },
         {
          "accessed_on": "2019-05-30T06:33:00",
          "available_bikes": 1406
         },
         {
          "accessed_on": "2019-05-30T06:31:00",
          "available_bikes": 1406
         },
         {
          "accessed_on": "2019-05-30T06:30:00",
          "available_bikes": 1407
         },
         {
          "accessed_on": "2019-05-30T06:29:00",
          "available_bikes": 1406
         },
         {
          "accessed_on": "2019-05-30T06:28:00",
          "available_bikes": 1407
         },
         {
          "accessed_on": "2019-05-30T06:27:00",
          "available_bikes": 1407
         },
         {
          "accessed_on": "2019-05-30T06:26:00",
          "available_bikes": 1405
         },
         {
          "accessed_on": "2019-05-30T06:25:00",
          "available_bikes": 1404
         },
         {
          "accessed_on": "2019-05-30T06:23:00",
          "available_bikes": 1402
         },
         {
          "accessed_on": "2019-05-30T06:22:00",
          "available_bikes": 1404
         },
         {
          "accessed_on": "2019-05-30T06:21:00",
          "available_bikes": 1406
         },
         {
          "accessed_on": "2019-05-30T06:20:00",
          "available_bikes": 1404
         },
         {
          "accessed_on": "2019-05-30T06:19:00",
          "available_bikes": 1405
         },
         {
          "accessed_on": "2019-05-30T06:18:00",
          "available_bikes": 1406
         },
         {
          "accessed_on": "2019-05-30T06:17:00",
          "available_bikes": 1404
         },
         {
          "accessed_on": "2019-05-30T06:16:00",
          "available_bikes": 1401
         },
         {
          "accessed_on": "2019-05-30T06:14:00",
          "available_bikes": 1399
         },
         {
          "accessed_on": "2019-05-30T06:13:00",
          "available_bikes": 1402
         },
         {
          "accessed_on": "2019-05-30T06:12:00",
          "available_bikes": 1401
         },
         {
          "accessed_on": "2019-05-30T06:11:00",
          "available_bikes": 1402
         },
         {
          "accessed_on": "2019-05-30T06:10:00",
          "available_bikes": 1401
         },
         {
          "accessed_on": "2019-05-30T06:09:00",
          "available_bikes": 1401
         },
         {
          "accessed_on": "2019-05-30T06:08:00",
          "available_bikes": 1406
         },
         {
          "accessed_on": "2019-05-30T06:06:00",
          "available_bikes": 1405
         },
         {
          "accessed_on": "2019-05-30T06:05:00",
          "available_bikes": 1405
         },
         {
          "accessed_on": "2019-05-30T06:04:00",
          "available_bikes": 1404
         },
         {
          "accessed_on": "2019-05-30T06:03:00",
          "available_bikes": 1405
         },
         {
          "accessed_on": "2019-05-30T06:02:00",
          "available_bikes": 1402
         },
         {
          "accessed_on": "2019-05-30T06:01:00",
          "available_bikes": 1401
         },
         {
          "accessed_on": "2019-05-30T06:00:00",
          "available_bikes": 1401
         },
         {
          "accessed_on": "2019-05-30T05:59:00",
          "available_bikes": 1404
         },
         {
          "accessed_on": "2019-05-30T05:57:00",
          "available_bikes": 1403
         },
         {
          "accessed_on": "2019-05-30T05:56:00",
          "available_bikes": 1402
         },
         {
          "accessed_on": "2019-05-30T05:55:00",
          "available_bikes": 1400
         },
         {
          "accessed_on": "2019-05-30T05:54:00",
          "available_bikes": 1398
         },
         {
          "accessed_on": "2019-05-30T05:53:00",
          "available_bikes": 1401
         },
         {
          "accessed_on": "2019-05-30T05:51:00",
          "available_bikes": 1400
         },
         {
          "accessed_on": "2019-05-30T05:50:00",
          "available_bikes": 1401
         },
         {
          "accessed_on": "2019-05-30T05:49:00",
          "available_bikes": 1401
         },
         {
          "accessed_on": "2019-05-30T05:48:00",
          "available_bikes": 1405
         },
         {
          "accessed_on": "2019-05-30T05:47:00",
          "available_bikes": 1405
         },
         {
          "accessed_on": "2019-05-30T05:46:00",
          "available_bikes": 1408
         },
         {
          "accessed_on": "2019-05-30T05:45:00",
          "available_bikes": 1407
         },
         {
          "accessed_on": "2019-05-30T05:44:00",
          "available_bikes": 1401
         },
         {
          "accessed_on": "2019-05-30T05:43:00",
          "available_bikes": 1399
         },
         {
          "accessed_on": "2019-05-30T05:42:00",
          "available_bikes": 1400
         },
         {
          "accessed_on": "2019-05-30T05:41:00",
          "available_bikes": 1400
         },
         {
          "accessed_on": "2019-05-30T05:40:00",
          "available_bikes": 1398
         },
         {
          "accessed_on": "2019-05-30T05:39:00",
          "available_bikes": 1400
         },
         {
          "accessed_on": "2019-05-30T05:38:00",
          "available_bikes": 1401
         },
         {
          "accessed_on": "2019-05-30T05:37:00",
          "available_bikes": 1396
         },
         {
          "accessed_on": "2019-05-30T05:36:00",
          "available_bikes": 1393
         },
         {
          "accessed_on": "2019-05-30T05:35:00",
          "available_bikes": 1393
         },
         {
          "accessed_on": "2019-05-30T05:34:00",
          "available_bikes": 1394
         },
         {
          "accessed_on": "2019-05-30T05:33:00",
          "available_bikes": 1397
         },
         {
          "accessed_on": "2019-05-30T05:32:00",
          "available_bikes": 1400
         },
         {
          "accessed_on": "2019-05-30T05:31:00",
          "available_bikes": 1400
         },
         {
          "accessed_on": "2019-05-30T05:30:00",
          "available_bikes": 1399
         },
         {
          "accessed_on": "2019-05-30T05:29:00",
          "available_bikes": 1402
         },
         {
          "accessed_on": "2019-05-30T05:28:00",
          "available_bikes": 1402
         },
         {
          "accessed_on": "2019-05-30T05:27:00",
          "available_bikes": 1399
         },
         {
          "accessed_on": "2019-05-30T05:26:00",
          "available_bikes": 1399
         },
         {
          "accessed_on": "2019-05-30T05:25:00",
          "available_bikes": 1400
         },
         {
          "accessed_on": "2019-05-30T05:24:00",
          "available_bikes": 1398
         },
         {
          "accessed_on": "2019-05-30T05:23:00",
          "available_bikes": 1398
         },
         {
          "accessed_on": "2019-05-30T05:22:00",
          "available_bikes": 1397
         },
         {
          "accessed_on": "2019-05-30T05:21:00",
          "available_bikes": 1397
         },
         {
          "accessed_on": "2019-05-30T05:20:00",
          "available_bikes": 1397
         },
         {
          "accessed_on": "2019-05-30T05:19:00",
          "available_bikes": 1390
         },
         {
          "accessed_on": "2019-05-30T05:18:00",
          "available_bikes": 1391
         },
         {
          "accessed_on": "2019-05-30T05:17:00",
          "available_bikes": 1396
         },
         {
          "accessed_on": "2019-05-30T05:16:00",
          "available_bikes": 1390
         },
         {
          "accessed_on": "2019-05-30T05:14:00",
          "available_bikes": 1385
         },
         {
          "accessed_on": "2019-05-30T05:13:00",
          "available_bikes": 1386
         },
         {
          "accessed_on": "2019-05-30T05:12:00",
          "available_bikes": 1383
         },
         {
          "accessed_on": "2019-05-30T05:11:00",
          "available_bikes": 1383
         },
         {
          "accessed_on": "2019-05-30T05:10:00",
          "available_bikes": 1385
         },
         {
          "accessed_on": "2019-05-30T05:09:00",
          "available_bikes": 1385
         },
         {
          "accessed_on": "2019-05-30T05:08:00",
          "available_bikes": 1387
         },
         {
          "accessed_on": "2019-05-30T05:07:00",
          "available_bikes": 1387
         },
         {
          "accessed_on": "2019-05-30T05:06:00",
          "available_bikes": 1389
         },
         {
          "accessed_on": "2019-05-30T05:05:00",
          "available_bikes": 1386
         },
         {
          "accessed_on": "2019-05-30T05:04:00",
          "available_bikes": 1389
         },
         {
          "accessed_on": "2019-05-30T05:03:00",
          "available_bikes": 1387
         },
         {
          "accessed_on": "2019-05-30T05:01:00",
          "available_bikes": 1383
         },
         {
          "accessed_on": "2019-05-30T05:00:00",
          "available_bikes": 1383
         },
         {
          "accessed_on": "2019-05-30T04:59:00",
          "available_bikes": 1381
         },
         {
          "accessed_on": "2019-05-30T04:58:00",
          "available_bikes": 1379
         },
         {
          "accessed_on": "2019-05-30T04:57:00",
          "available_bikes": 1378
         },
         {
          "accessed_on": "2019-05-30T04:56:00",
          "available_bikes": 1375
         },
         {
          "accessed_on": "2019-05-30T04:55:00",
          "available_bikes": 1378
         },
         {
          "accessed_on": "2019-05-30T04:54:00",
          "available_bikes": 1377
         },
         {
          "accessed_on": "2019-05-30T04:52:00",
          "available_bikes": 1378
         },
         {
          "accessed_on": "2019-05-30T04:51:00",
          "available_bikes": 1379
         },
         {
          "accessed_on": "2019-05-30T04:50:00",
          "available_bikes": 1375
         },
         {
          "accessed_on": "2019-05-30T04:49:00",
          "available_bikes": 1377
         },
         {
          "accessed_on": "2019-05-30T04:48:00",
          "available_bikes": 1381
         },
         {
          "accessed_on": "2019-05-30T04:47:00",
          "available_bikes": 1376
         },
         {
          "accessed_on": "2019-05-30T04:46:00",
          "available_bikes": 1375
         },
         {
          "accessed_on": "2019-05-30T04:45:00",
          "available_bikes": 1375
         },
         {
          "accessed_on": "2019-05-30T04:44:00",
          "available_bikes": 1372
         },
         {
          "accessed_on": "2019-05-30T04:43:00",
          "available_bikes": 1377
         },
         {
          "accessed_on": "2019-05-30T04:42:00",
          "available_bikes": 1377
         },
         {
          "accessed_on": "2019-05-30T04:41:00",
          "available_bikes": 1377
         },
         {
          "accessed_on": "2019-05-30T04:40:00",
          "available_bikes": 1376
         },
         {
          "accessed_on": "2019-05-30T04:39:00",
          "available_bikes": 1379
         },
         {
          "accessed_on": "2019-05-30T04:38:00",
          "available_bikes": 1379
         },
         {
          "accessed_on": "2019-05-30T04:37:00",
          "available_bikes": 1381
         },
         {
          "accessed_on": "2019-05-30T04:36:00",
          "available_bikes": 1385
         },
         {
          "accessed_on": "2019-05-30T04:35:00",
          "available_bikes": 1381
         },
         {
          "accessed_on": "2019-05-30T04:34:00",
          "available_bikes": 1381
         },
         {
          "accessed_on": "2019-05-30T04:33:00",
          "available_bikes": 1381
         },
         {
          "accessed_on": "2019-05-30T04:32:00",
          "available_bikes": 1386
         },
         {
          "accessed_on": "2019-05-30T04:31:00",
          "available_bikes": 1381
         },
         {
          "accessed_on": "2019-05-30T04:30:00",
          "available_bikes": 1375
         },
         {
          "accessed_on": "2019-05-30T04:29:00",
          "available_bikes": 1373
         },
         {
          "accessed_on": "2019-05-30T04:28:00",
          "available_bikes": 1372
         },
         {
          "accessed_on": "2019-05-30T04:27:00",
          "available_bikes": 1370
         },
         {
          "accessed_on": "2019-05-30T04:25:00",
          "available_bikes": 1368
         },
         {
          "accessed_on": "2019-05-30T04:24:00",
          "available_bikes": 1371
         },
         {
          "accessed_on": "2019-05-30T04:23:00",
          "available_bikes": 1370
         },
         {
          "accessed_on": "2019-05-30T04:22:00",
          "available_bikes": 1367
         },
         {
          "accessed_on": "2019-05-30T04:21:00",
          "available_bikes": 1369
         },
         {
          "accessed_on": "2019-05-30T04:20:00",
          "available_bikes": 1373
         },
         {
          "accessed_on": "2019-05-30T04:18:00",
          "available_bikes": 1369
         },
         {
          "accessed_on": "2019-05-30T04:17:00",
          "available_bikes": 1365
         },
         {
          "accessed_on": "2019-05-30T04:16:00",
          "available_bikes": 1367
         },
         {
          "accessed_on": "2019-05-30T04:15:00",
          "available_bikes": 1366
         },
         {
          "accessed_on": "2019-05-30T04:14:00",
          "available_bikes": 1371
         },
         {
          "accessed_on": "2019-05-30T04:13:00",
          "available_bikes": 1367
         },
         {
          "accessed_on": "2019-05-30T04:12:00",
          "available_bikes": 1367
         },
         {
          "accessed_on": "2019-05-30T04:10:00",
          "available_bikes": 1366
         },
         {
          "accessed_on": "2019-05-30T04:09:00",
          "available_bikes": 1373
         },
         {
          "accessed_on": "2019-05-30T04:08:00",
          "available_bikes": 1364
         },
         {
          "accessed_on": "2019-05-30T04:07:00",
          "available_bikes": 1363
         },
         {
          "accessed_on": "2019-05-30T04:06:00",
          "available_bikes": 1361
         },
         {
          "accessed_on": "2019-05-30T04:04:00",
          "available_bikes": 1362
         },
         {
          "accessed_on": "2019-05-30T04:03:00",
          "available_bikes": 1363
         },
         {
          "accessed_on": "2019-05-30T04:02:00",
          "available_bikes": 1362
         },
         {
          "accessed_on": "2019-05-30T04:01:00",
          "available_bikes": 1363
         },
         {
          "accessed_on": "2019-05-30T04:00:00",
          "available_bikes": 1358
         },
         {
          "accessed_on": "2019-05-30T03:59:00",
          "available_bikes": 1356
         },
         {
          "accessed_on": "2019-05-30T03:58:00",
          "available_bikes": 1358
         },
         {
          "accessed_on": "2019-05-30T03:57:00",
          "available_bikes": 1361
         },
         {
          "accessed_on": "2019-05-30T03:56:00",
          "available_bikes": 1356
         },
         {
          "accessed_on": "2019-05-30T03:54:00",
          "available_bikes": 1357
         },
         {
          "accessed_on": "2019-05-30T03:53:00",
          "available_bikes": 1360
         },
         {
          "accessed_on": "2019-05-30T03:52:00",
          "available_bikes": 1360
         },
         {
          "accessed_on": "2019-05-30T03:51:00",
          "available_bikes": 1363
         },
         {
          "accessed_on": "2019-05-30T03:50:00",
          "available_bikes": 1360
         },
         {
          "accessed_on": "2019-05-30T03:48:00",
          "available_bikes": 1356
         },
         {
          "accessed_on": "2019-05-30T03:47:00",
          "available_bikes": 1357
         },
         {
          "accessed_on": "2019-05-30T03:46:00",
          "available_bikes": 1359
         },
         {
          "accessed_on": "2019-05-30T03:45:00",
          "available_bikes": 1360
         },
         {
          "accessed_on": "2019-05-30T03:44:00",
          "available_bikes": 1364
         },
         {
          "accessed_on": "2019-05-30T03:43:00",
          "available_bikes": 1357
         },
         {
          "accessed_on": "2019-05-30T03:42:00",
          "available_bikes": 1351
         },
         {
          "accessed_on": "2019-05-30T03:41:00",
          "available_bikes": 1355
         },
         {
          "accessed_on": "2019-05-30T03:40:00",
          "available_bikes": 1362
         },
         {
          "accessed_on": "2019-05-30T03:38:00",
          "available_bikes": 1360
         },
         {
          "accessed_on": "2019-05-30T03:37:00",
          "available_bikes": 1363
         },
         {
          "accessed_on": "2019-05-30T03:36:00",
          "available_bikes": 1363
         },
         {
          "accessed_on": "2019-05-30T03:35:00",
          "available_bikes": 1363
         },
         {
          "accessed_on": "2019-05-30T03:34:00",
          "available_bikes": 1356
         },
         {
          "accessed_on": "2019-05-30T03:33:00",
          "available_bikes": 1355
         },
         {
          "accessed_on": "2019-05-30T03:32:00",
          "available_bikes": 1354
         },
         {
          "accessed_on": "2019-05-30T03:30:00",
          "available_bikes": 1352
         },
         {
          "accessed_on": "2019-05-30T03:29:00",
          "available_bikes": 1349
         },
         {
          "accessed_on": "2019-05-30T03:28:00",
          "available_bikes": 1350
         },
         {
          "accessed_on": "2019-05-30T03:27:00",
          "available_bikes": 1349
         },
         {
          "accessed_on": "2019-05-30T03:26:00",
          "available_bikes": 1355
         },
         {
          "accessed_on": "2019-05-30T03:25:00",
          "available_bikes": 1351
         },
         {
          "accessed_on": "2019-05-30T03:24:00",
          "available_bikes": 1350
         },
         {
          "accessed_on": "2019-05-30T03:23:00",
          "available_bikes": 1350
         },
         {
          "accessed_on": "2019-05-30T03:22:00",
          "available_bikes": 1350
         },
         {
          "accessed_on": "2019-05-30T03:20:00",
          "available_bikes": 1349
         },
         {
          "accessed_on": "2019-05-30T03:19:00",
          "available_bikes": 1342
         },
         {
          "accessed_on": "2019-05-30T03:18:00",
          "available_bikes": 1340
         },
         {
          "accessed_on": "2019-05-30T03:17:00",
          "available_bikes": 1333
         },
         {
          "accessed_on": "2019-05-30T03:16:00",
          "available_bikes": 1334
         },
         {
          "accessed_on": "2019-05-30T03:15:00",
          "available_bikes": 1334
         },
         {
          "accessed_on": "2019-05-30T03:14:00",
          "available_bikes": 1339
         },
         {
          "accessed_on": "2019-05-30T03:13:00",
          "available_bikes": 1344
         },
         {
          "accessed_on": "2019-05-30T03:12:00",
          "available_bikes": 1346
         },
         {
          "accessed_on": "2019-05-30T03:11:00",
          "available_bikes": 1346
         },
         {
          "accessed_on": "2019-05-30T03:10:00",
          "available_bikes": 1350
         },
         {
          "accessed_on": "2019-05-30T03:09:00",
          "available_bikes": 1340
         },
         {
          "accessed_on": "2019-05-30T03:08:00",
          "available_bikes": 1340
         },
         {
          "accessed_on": "2019-05-30T03:07:00",
          "available_bikes": 1335
         },
         {
          "accessed_on": "2019-05-30T03:06:00",
          "available_bikes": 1338
         },
         {
          "accessed_on": "2019-05-30T03:05:00",
          "available_bikes": 1339
         },
         {
          "accessed_on": "2019-05-30T03:04:00",
          "available_bikes": 1338
         },
         {
          "accessed_on": "2019-05-30T03:03:00",
          "available_bikes": 1338
         },
         {
          "accessed_on": "2019-05-30T03:02:00",
          "available_bikes": 1340
         },
         {
          "accessed_on": "2019-05-30T03:00:00",
          "available_bikes": 1334
         },
         {
          "accessed_on": "2019-05-30T02:59:00",
          "available_bikes": 1334
         },
         {
          "accessed_on": "2019-05-30T02:58:00",
          "available_bikes": 1336
         },
         {
          "accessed_on": "2019-05-30T02:57:00",
          "available_bikes": 1328
         },
         {
          "accessed_on": "2019-05-30T02:56:00",
          "available_bikes": 1333
         },
         {
          "accessed_on": "2019-05-30T02:55:00",
          "available_bikes": 1334
         },
         {
          "accessed_on": "2019-05-30T02:54:00",
          "available_bikes": 1335
         },
         {
          "accessed_on": "2019-05-30T02:52:00",
          "available_bikes": 1342
         },
         {
          "accessed_on": "2019-05-30T02:51:00",
          "available_bikes": 1340
         },
         {
          "accessed_on": "2019-05-30T02:50:00",
          "available_bikes": 1335
         },
         {
          "accessed_on": "2019-05-30T02:49:00",
          "available_bikes": 1331
         },
         {
          "accessed_on": "2019-05-30T02:48:00",
          "available_bikes": 1329
         },
         {
          "accessed_on": "2019-05-30T02:47:00",
          "available_bikes": 1327
         },
         {
          "accessed_on": "2019-05-30T02:45:00",
          "available_bikes": 1325
         },
         {
          "accessed_on": "2019-05-30T02:44:00",
          "available_bikes": 1323
         },
         {
          "accessed_on": "2019-05-30T02:43:00",
          "available_bikes": 1324
         },
         {
          "accessed_on": "2019-05-30T02:42:00",
          "available_bikes": 1309
         },
         {
          "accessed_on": "2019-05-30T02:41:00",
          "available_bikes": 1299
         },
         {
          "accessed_on": "2019-05-30T02:39:00",
          "available_bikes": 1302
         },
         {
          "accessed_on": "2019-05-30T02:38:00",
          "available_bikes": 1297
         },
         {
          "accessed_on": "2019-05-30T02:37:00",
          "available_bikes": 1290
         },
         {
          "accessed_on": "2019-05-30T02:36:00",
          "available_bikes": 1296
         },
         {
          "accessed_on": "2019-05-30T02:35:00",
          "available_bikes": 1301
         },
         {
          "accessed_on": "2019-05-30T02:34:00",
          "available_bikes": 1299
         },
         {
          "accessed_on": "2019-05-30T02:33:00",
          "available_bikes": 1295
         },
         {
          "accessed_on": "2019-05-30T02:32:00",
          "available_bikes": 1292
         },
         {
          "accessed_on": "2019-05-30T02:31:00",
          "available_bikes": 1292
         },
         {
          "accessed_on": "2019-05-30T02:30:00",
          "available_bikes": 1296
         },
         {
          "accessed_on": "2019-05-30T02:29:00",
          "available_bikes": 1301
         },
         {
          "accessed_on": "2019-05-30T02:28:00",
          "available_bikes": 1301
         },
         {
          "accessed_on": "2019-05-30T02:27:00",
          "available_bikes": 1300
         },
         {
          "accessed_on": "2019-05-30T02:26:00",
          "available_bikes": 1301
         },
         {
          "accessed_on": "2019-05-30T02:25:00",
          "available_bikes": 1302
         },
         {
          "accessed_on": "2019-05-30T02:23:00",
          "available_bikes": 1298
         },
         {
          "accessed_on": "2019-05-30T02:22:00",
          "available_bikes": 1289
         },
         {
          "accessed_on": "2019-05-30T02:21:00",
          "available_bikes": 1294
         },
         {
          "accessed_on": "2019-05-30T02:20:00",
          "available_bikes": 1294
         },
         {
          "accessed_on": "2019-05-30T02:19:00",
          "available_bikes": 1297
         },
         {
          "accessed_on": "2019-05-30T02:18:00",
          "available_bikes": 1300
         },
         {
          "accessed_on": "2019-05-30T02:16:00",
          "available_bikes": 1304
         },
         {
          "accessed_on": "2019-05-30T02:15:00",
          "available_bikes": 1306
         },
         {
          "accessed_on": "2019-05-30T02:14:00",
          "available_bikes": 1312
         },
         {
          "accessed_on": "2019-05-30T02:13:00",
          "available_bikes": 1311
         },
         {
          "accessed_on": "2019-05-30T02:12:00",
          "available_bikes": 1323
         },
         {
          "accessed_on": "2019-05-30T02:11:00",
          "available_bikes": 1325
         },
         {
          "accessed_on": "2019-05-30T02:10:00",
          "available_bikes": 1325
         },
         {
          "accessed_on": "2019-05-30T02:09:00",
          "available_bikes": 1321
         },
         {
          "accessed_on": "2019-05-30T02:07:00",
          "available_bikes": 1322
         },
         {
          "accessed_on": "2019-05-30T02:06:00",
          "available_bikes": 1327
         },
         {
          "accessed_on": "2019-05-30T02:05:00",
          "available_bikes": 1324
         },
         {
          "accessed_on": "2019-05-30T02:04:00",
          "available_bikes": 1324
         },
         {
          "accessed_on": "2019-05-30T02:03:00",
          "available_bikes": 1326
         },
         {
          "accessed_on": "2019-05-30T02:02:00",
          "available_bikes": 1320
         },
         {
          "accessed_on": "2019-05-30T02:01:00",
          "available_bikes": 1322
         },
         {
          "accessed_on": "2019-05-30T02:00:00",
          "available_bikes": 1322
         },
         {
          "accessed_on": "2019-05-30T01:59:00",
          "available_bikes": 1320
         },
         {
          "accessed_on": "2019-05-30T01:58:00",
          "available_bikes": 1320
         },
         {
          "accessed_on": "2019-05-30T01:57:00",
          "available_bikes": 1327
         },
         {
          "accessed_on": "2019-05-30T01:56:00",
          "available_bikes": 1325
         },
         {
          "accessed_on": "2019-05-30T01:55:00",
          "available_bikes": 1325
         },
         {
          "accessed_on": "2019-05-30T01:54:00",
          "available_bikes": 1321
         },
         {
          "accessed_on": "2019-05-30T01:53:00",
          "available_bikes": 1323
         },
         {
          "accessed_on": "2019-05-30T01:52:00",
          "available_bikes": 1323
         },
         {
          "accessed_on": "2019-05-30T01:50:00",
          "available_bikes": 1328
         },
         {
          "accessed_on": "2019-05-30T01:49:00",
          "available_bikes": 1321
         },
         {
          "accessed_on": "2019-05-30T01:48:00",
          "available_bikes": 1318
         },
         {
          "accessed_on": "2019-05-30T01:47:00",
          "available_bikes": 1314
         },
         {
          "accessed_on": "2019-05-30T01:46:00",
          "available_bikes": 1317
         },
         {
          "accessed_on": "2019-05-30T01:45:00",
          "available_bikes": 1314
         },
         {
          "accessed_on": "2019-05-30T01:43:00",
          "available_bikes": 1315
         },
         {
          "accessed_on": "2019-05-30T01:42:00",
          "available_bikes": 1305
         },
         {
          "accessed_on": "2019-05-30T01:41:00",
          "available_bikes": 1309
         },
         {
          "accessed_on": "2019-05-30T01:40:00",
          "available_bikes": 1311
         },
         {
          "accessed_on": "2019-05-30T01:39:00",
          "available_bikes": 1310
         },
         {
          "accessed_on": "2019-05-30T01:38:00",
          "available_bikes": 1312
         },
         {
          "accessed_on": "2019-05-30T01:37:00",
          "available_bikes": 1315
         },
         {
          "accessed_on": "2019-05-30T01:35:00",
          "available_bikes": 1319
         },
         {
          "accessed_on": "2019-05-30T01:34:00",
          "available_bikes": 1309
         },
         {
          "accessed_on": "2019-05-30T01:33:00",
          "available_bikes": 1306
         },
         {
          "accessed_on": "2019-05-30T01:32:00",
          "available_bikes": 1306
         },
         {
          "accessed_on": "2019-05-30T01:31:00",
          "available_bikes": 1310
         },
         {
          "accessed_on": "2019-05-30T01:30:00",
          "available_bikes": 1310
         },
         {
          "accessed_on": "2019-05-30T01:29:00",
          "available_bikes": 1312
         },
         {
          "accessed_on": "2019-05-30T01:28:00",
          "available_bikes": 1312
         },
         {
          "accessed_on": "2019-05-30T01:27:00",
          "available_bikes": 1312
         },
         {
          "accessed_on": "2019-05-30T01:26:00",
          "available_bikes": 1313
         },
         {
          "accessed_on": "2019-05-30T01:25:00",
          "available_bikes": 1313
         },
         {
          "accessed_on": "2019-05-30T01:24:00",
          "available_bikes": 1313
         },
         {
          "accessed_on": "2019-05-30T01:23:00",
          "available_bikes": 1306
         },
         {
          "accessed_on": "2019-05-30T01:22:00",
          "available_bikes": 1304
         },
         {
          "accessed_on": "2019-05-30T01:21:00",
          "available_bikes": 1308
         },
         {
          "accessed_on": "2019-05-30T01:20:00",
          "available_bikes": 1305
         },
         {
          "accessed_on": "2019-05-30T01:19:00",
          "available_bikes": 1303
         },
         {
          "accessed_on": "2019-05-30T01:18:00",
          "available_bikes": 1306
         },
         {
          "accessed_on": "2019-05-30T01:17:00",
          "available_bikes": 1306
         },
         {
          "accessed_on": "2019-05-30T01:16:00",
          "available_bikes": 1304
         },
         {
          "accessed_on": "2019-05-30T01:15:00",
          "available_bikes": 1310
         },
         {
          "accessed_on": "2019-05-30T01:14:00",
          "available_bikes": 1309
         },
         {
          "accessed_on": "2019-05-30T01:13:00",
          "available_bikes": 1305
         },
         {
          "accessed_on": "2019-05-30T01:12:00",
          "available_bikes": 1308
         },
         {
          "accessed_on": "2019-05-30T01:11:00",
          "available_bikes": 1307
         },
         {
          "accessed_on": "2019-05-30T01:09:00",
          "available_bikes": 1300
         },
         {
          "accessed_on": "2019-05-30T01:08:00",
          "available_bikes": 1304
         },
         {
          "accessed_on": "2019-05-30T01:07:00",
          "available_bikes": 1304
         },
         {
          "accessed_on": "2019-05-30T01:06:00",
          "available_bikes": 1308
         },
         {
          "accessed_on": "2019-05-30T01:05:00",
          "available_bikes": 1316
         },
         {
          "accessed_on": "2019-05-30T01:04:00",
          "available_bikes": 1320
         },
         {
          "accessed_on": "2019-05-30T01:03:00",
          "available_bikes": 1323
         },
         {
          "accessed_on": "2019-05-30T01:02:00",
          "available_bikes": 1316
         },
         {
          "accessed_on": "2019-05-30T01:00:00",
          "available_bikes": 1307
         },
         {
          "accessed_on": "2019-05-30T00:59:00",
          "available_bikes": 1312
         },
         {
          "accessed_on": "2019-05-30T00:58:00",
          "available_bikes": 1307
         },
         {
          "accessed_on": "2019-05-30T00:57:00",
          "available_bikes": 1298
         },
         {
          "accessed_on": "2019-05-30T00:56:00",
          "available_bikes": 1302
         },
         {
          "accessed_on": "2019-05-30T00:55:00",
          "available_bikes": 1295
         },
         {
          "accessed_on": "2019-05-30T00:54:00",
          "available_bikes": 1289
         },
         {
          "accessed_on": "2019-05-30T00:53:00",
          "available_bikes": 1299
         },
         {
          "accessed_on": "2019-05-30T00:51:00",
          "available_bikes": 1300
         },
         {
          "accessed_on": "2019-05-30T00:50:00",
          "available_bikes": 1297
         },
         {
          "accessed_on": "2019-05-30T00:49:00",
          "available_bikes": 1294
         },
         {
          "accessed_on": "2019-05-30T00:48:00",
          "available_bikes": 1295
         },
         {
          "accessed_on": "2019-05-30T00:47:00",
          "available_bikes": 1296
         },
         {
          "accessed_on": "2019-05-30T00:46:00",
          "available_bikes": 1292
         },
         {
          "accessed_on": "2019-05-30T00:45:00",
          "available_bikes": 1285
         },
         {
          "accessed_on": "2019-05-30T00:44:00",
          "available_bikes": 1285
         },
         {
          "accessed_on": "2019-05-30T00:42:00",
          "available_bikes": 1287
         },
         {
          "accessed_on": "2019-05-30T00:41:00",
          "available_bikes": 1289
         },
         {
          "accessed_on": "2019-05-30T00:40:00",
          "available_bikes": 1286
         },
         {
          "accessed_on": "2019-05-30T00:39:00",
          "available_bikes": 1286
         },
         {
          "accessed_on": "2019-05-30T00:38:00",
          "available_bikes": 1284
         },
         {
          "accessed_on": "2019-05-30T00:37:00",
          "available_bikes": 1286
         },
         {
          "accessed_on": "2019-05-30T00:36:00",
          "available_bikes": 1287
         },
         {
          "accessed_on": "2019-05-30T00:34:00",
          "available_bikes": 1294
         },
         {
          "accessed_on": "2019-05-30T00:33:00",
          "available_bikes": 1298
         },
         {
          "accessed_on": "2019-05-30T00:32:00",
          "available_bikes": 1306
         },
         {
          "accessed_on": "2019-05-30T00:31:00",
          "available_bikes": 1304
         },
         {
          "accessed_on": "2019-05-30T00:30:00",
          "available_bikes": 1299
         },
         {
          "accessed_on": "2019-05-30T00:29:00",
          "available_bikes": 1298
         },
         {
          "accessed_on": "2019-05-30T00:28:00",
          "available_bikes": 1297
         },
         {
          "accessed_on": "2019-05-30T00:27:00",
          "available_bikes": 1291
         },
         {
          "accessed_on": "2019-05-30T00:26:00",
          "available_bikes": 1291
         },
         {
          "accessed_on": "2019-05-30T00:25:00",
          "available_bikes": 1294
         },
         {
          "accessed_on": "2019-05-30T00:24:00",
          "available_bikes": 1287
         },
         {
          "accessed_on": "2019-05-30T00:23:00",
          "available_bikes": 1282
         },
         {
          "accessed_on": "2019-05-30T00:22:00",
          "available_bikes": 1288
         },
         {
          "accessed_on": "2019-05-30T00:21:00",
          "available_bikes": 1284
         },
         {
          "accessed_on": "2019-05-30T00:20:00",
          "available_bikes": 1292
         },
         {
          "accessed_on": "2019-05-30T00:19:00",
          "available_bikes": 1290
         },
         {
          "accessed_on": "2019-05-30T00:17:00",
          "available_bikes": 1290
         },
         {
          "accessed_on": "2019-05-30T00:16:00",
          "available_bikes": 1295
         },
         {
          "accessed_on": "2019-05-30T00:15:00",
          "available_bikes": 1303
         },
         {
          "accessed_on": "2019-05-30T00:14:00",
          "available_bikes": 1310
         },
         {
          "accessed_on": "2019-05-30T00:13:00",
          "available_bikes": 1308
         },
         {
          "accessed_on": "2019-05-30T00:12:00",
          "available_bikes": 1313
         },
         {
          "accessed_on": "2019-05-30T00:11:00",
          "available_bikes": 1314
         },
         {
          "accessed_on": "2019-05-30T00:10:00",
          "available_bikes": 1319
         },
         {
          "accessed_on": "2019-05-30T00:08:00",
          "available_bikes": 1322
         },
         {
          "accessed_on": "2019-05-30T00:07:00",
          "available_bikes": 1327
         },
         {
          "accessed_on": "2019-05-30T00:06:00",
          "available_bikes": 1334
         },
         {
          "accessed_on": "2019-05-30T00:05:00",
          "available_bikes": 1332
         },
         {
          "accessed_on": "2019-05-30T00:04:00",
          "available_bikes": 1330
         },
         {
          "accessed_on": "2019-05-30T00:02:00",
          "available_bikes": 1332
         },
         {
          "accessed_on": "2019-05-30T00:01:00",
          "available_bikes": 1327
         },
         {
          "accessed_on": "2019-05-30T00:00:00",
          "available_bikes": 1328
         },
         {
          "accessed_on": "2019-05-29T23:59:00",
          "available_bikes": 1325
         },
         {
          "accessed_on": "2019-05-29T23:57:00",
          "available_bikes": 1326
         },
         {
          "accessed_on": "2019-05-29T23:56:00",
          "available_bikes": 1325
         },
         {
          "accessed_on": "2019-05-29T23:55:00",
          "available_bikes": 1330
         },
         {
          "accessed_on": "2019-05-29T23:54:00",
          "available_bikes": 1333
         },
         {
          "accessed_on": "2019-05-29T23:53:00",
          "available_bikes": 1328
         },
         {
          "accessed_on": "2019-05-29T23:52:00",
          "available_bikes": 1327
         },
         {
          "accessed_on": "2019-05-29T23:51:00",
          "available_bikes": 1327
         },
         {
          "accessed_on": "2019-05-29T23:50:00",
          "available_bikes": 1324
         },
         {
          "accessed_on": "2019-05-29T23:49:00",
          "available_bikes": 1330
         },
         {
          "accessed_on": "2019-05-29T23:48:00",
          "available_bikes": 1333
         },
         {
          "accessed_on": "2019-05-29T23:47:00",
          "available_bikes": 1330
         },
         {
          "accessed_on": "2019-05-29T23:46:00",
          "available_bikes": 1335
         },
         {
          "accessed_on": "2019-05-29T23:45:00",
          "available_bikes": 1339
         },
         {
          "accessed_on": "2019-05-29T23:44:00",
          "available_bikes": 1331
         },
         {
          "accessed_on": "2019-05-29T23:42:00",
          "available_bikes": 1334
         },
         {
          "accessed_on": "2019-05-29T23:41:00",
          "available_bikes": 1336
         },
         {
          "accessed_on": "2019-05-29T23:40:00",
          "available_bikes": 1335
         },
         {
          "accessed_on": "2019-05-29T23:39:00",
          "available_bikes": 1337
         },
         {
          "accessed_on": "2019-05-29T23:38:00",
          "available_bikes": 1332
         },
         {
          "accessed_on": "2019-05-29T23:37:00",
          "available_bikes": 1328
         },
         {
          "accessed_on": "2019-05-29T23:36:00",
          "available_bikes": 1328
         },
         {
          "accessed_on": "2019-05-29T23:34:00",
          "available_bikes": 1326
         },
         {
          "accessed_on": "2019-05-29T23:33:00",
          "available_bikes": 1330
         },
         {
          "accessed_on": "2019-05-29T23:32:00",
          "available_bikes": 1332
         },
         {
          "accessed_on": "2019-05-29T23:31:00",
          "available_bikes": 1331
         },
         {
          "accessed_on": "2019-05-29T23:30:00",
          "available_bikes": 1332
         },
         {
          "accessed_on": "2019-05-29T23:29:00",
          "available_bikes": 1333
         },
         {
          "accessed_on": "2019-05-29T23:28:00",
          "available_bikes": 1333
         },
         {
          "accessed_on": "2019-05-29T23:27:00",
          "available_bikes": 1333
         },
         {
          "accessed_on": "2019-05-29T23:26:00",
          "available_bikes": 1332
         },
         {
          "accessed_on": "2019-05-29T23:25:00",
          "available_bikes": 1332
         },
         {
          "accessed_on": "2019-05-29T23:24:00",
          "available_bikes": 1333
         },
         {
          "accessed_on": "2019-05-29T23:23:00",
          "available_bikes": 1333
         },
         {
          "accessed_on": "2019-05-29T23:22:00",
          "available_bikes": 1328
         },
         {
          "accessed_on": "2019-05-29T23:21:00",
          "available_bikes": 1330
         },
         {
          "accessed_on": "2019-05-29T23:20:00",
          "available_bikes": 1333
         },
         {
          "accessed_on": "2019-05-29T23:19:00",
          "available_bikes": 1344
         },
         {
          "accessed_on": "2019-05-29T23:18:00",
          "available_bikes": 1343
         },
         {
          "accessed_on": "2019-05-29T23:16:00",
          "available_bikes": 1349
         },
         {
          "accessed_on": "2019-05-29T23:15:00",
          "available_bikes": 1355
         },
         {
          "accessed_on": "2019-05-29T23:14:00",
          "available_bikes": 1347
         },
         {
          "accessed_on": "2019-05-29T23:13:00",
          "available_bikes": 1345
         },
         {
          "accessed_on": "2019-05-29T23:12:00",
          "available_bikes": 1342
         },
         {
          "accessed_on": "2019-05-29T23:11:00",
          "available_bikes": 1342
         },
         {
          "accessed_on": "2019-05-29T23:10:00",
          "available_bikes": 1343
         },
         {
          "accessed_on": "2019-05-29T23:09:00",
          "available_bikes": 1352
         },
         {
          "accessed_on": "2019-05-29T23:08:00",
          "available_bikes": 1360
         },
         {
          "accessed_on": "2019-05-29T23:07:00",
          "available_bikes": 1358
         },
         {
          "accessed_on": "2019-05-29T23:06:00",
          "available_bikes": 1363
         },
         {
          "accessed_on": "2019-05-29T23:05:00",
          "available_bikes": 1365
         },
         {
          "accessed_on": "2019-05-29T23:04:00",
          "available_bikes": 1365
         },
         {
          "accessed_on": "2019-05-29T23:03:00",
          "available_bikes": 1364
         },
         {
          "accessed_on": "2019-05-29T23:02:00",
          "available_bikes": 1363
         },
         {
          "accessed_on": "2019-05-29T23:01:00",
          "available_bikes": 1363
         },
         {
          "accessed_on": "2019-05-29T23:00:00",
          "available_bikes": 1366
         },
         {
          "accessed_on": "2019-05-29T22:59:00",
          "available_bikes": 1364
         },
         {
          "accessed_on": "2019-05-29T22:58:00",
          "available_bikes": 1364
         },
         {
          "accessed_on": "2019-05-29T22:57:00",
          "available_bikes": 1364
         },
         {
          "accessed_on": "2019-05-29T22:56:00",
          "available_bikes": 1365
         },
         {
          "accessed_on": "2019-05-29T22:55:00",
          "available_bikes": 1363
         },
         {
          "accessed_on": "2019-05-29T22:54:00",
          "available_bikes": 1360
         },
         {
          "accessed_on": "2019-05-29T22:53:00",
          "available_bikes": 1360
         },
         {
          "accessed_on": "2019-05-29T22:52:00",
          "available_bikes": 1359
         },
         {
          "accessed_on": "2019-05-29T22:51:00",
          "available_bikes": 1363
         },
         {
          "accessed_on": "2019-05-29T22:50:00",
          "available_bikes": 1365
         },
         {
          "accessed_on": "2019-05-29T22:49:00",
          "available_bikes": 1372
         },
         {
          "accessed_on": "2019-05-29T22:48:00",
          "available_bikes": 1372
         },
         {
          "accessed_on": "2019-05-29T22:47:00",
          "available_bikes": 1372
         },
         {
          "accessed_on": "2019-05-29T22:46:00",
          "available_bikes": 1378
         },
         {
          "accessed_on": "2019-05-29T22:45:00",
          "available_bikes": 1378
         },
         {
          "accessed_on": "2019-05-29T22:44:00",
          "available_bikes": 1379
         },
         {
          "accessed_on": "2019-05-29T22:43:00",
          "available_bikes": 1381
         },
         {
          "accessed_on": "2019-05-29T22:41:00",
          "available_bikes": 1384
         },
         {
          "accessed_on": "2019-05-29T22:40:00",
          "available_bikes": 1380
         },
         {
          "accessed_on": "2019-05-29T22:39:00",
          "available_bikes": 1381
         },
         {
          "accessed_on": "2019-05-29T22:38:00",
          "available_bikes": 1381
         },
         {
          "accessed_on": "2019-05-29T22:37:00",
          "available_bikes": 1378
         },
         {
          "accessed_on": "2019-05-29T22:36:00",
          "available_bikes": 1378
         },
         {
          "accessed_on": "2019-05-29T22:35:00",
          "available_bikes": 1378
         },
         {
          "accessed_on": "2019-05-29T22:34:00",
          "available_bikes": 1378
         },
         {
          "accessed_on": "2019-05-29T22:33:00",
          "available_bikes": 1374
         },
         {
          "accessed_on": "2019-05-29T22:32:00",
          "available_bikes": 1374
         },
         {
          "accessed_on": "2019-05-29T22:31:00",
          "available_bikes": 1371
         },
         {
          "accessed_on": "2019-05-29T22:30:00",
          "available_bikes": 1369
         },
         {
          "accessed_on": "2019-05-29T22:29:00",
          "available_bikes": 1372
         },
         {
          "accessed_on": "2019-05-29T22:27:00",
          "available_bikes": 1372
         },
         {
          "accessed_on": "2019-05-29T22:26:00",
          "available_bikes": 1372
         },
         {
          "accessed_on": "2019-05-29T22:25:00",
          "available_bikes": 1378
         },
         {
          "accessed_on": "2019-05-29T22:24:00",
          "available_bikes": 1379
         },
         {
          "accessed_on": "2019-05-29T22:23:00",
          "available_bikes": 1379
         },
         {
          "accessed_on": "2019-05-29T22:22:00",
          "available_bikes": 1374
         },
         {
          "accessed_on": "2019-05-29T22:21:00",
          "available_bikes": 1376
         },
         {
          "accessed_on": "2019-05-29T22:20:00",
          "available_bikes": 1368
         },
         {
          "accessed_on": "2019-05-29T22:19:00",
          "available_bikes": 1365
         },
         {
          "accessed_on": "2019-05-29T22:17:00",
          "available_bikes": 1365
         },
         {
          "accessed_on": "2019-05-29T22:16:00",
          "available_bikes": 1372
         },
         {
          "accessed_on": "2019-05-29T22:15:00",
          "available_bikes": 1365
         },
         {
          "accessed_on": "2019-05-29T22:14:00",
          "available_bikes": 1371
         },
         {
          "accessed_on": "2019-05-29T22:13:00",
          "available_bikes": 1371
         },
         {
          "accessed_on": "2019-05-29T22:12:00",
          "available_bikes": 1371
         },
         {
          "accessed_on": "2019-05-29T22:11:00",
          "available_bikes": 1376
         },
         {
          "accessed_on": "2019-05-29T22:10:00",
          "available_bikes": 1369
         },
         {
          "accessed_on": "2019-05-29T22:09:00",
          "available_bikes": 1361
         },
         {
          "accessed_on": "2019-05-29T22:08:00",
          "available_bikes": 1369
         },
         {
          "accessed_on": "2019-05-29T22:07:00",
          "available_bikes": 1363
         },
         {
          "accessed_on": "2019-05-29T22:06:00",
          "available_bikes": 1366
         },
         {
          "accessed_on": "2019-05-29T22:05:00",
          "available_bikes": 1365
         },
         {
          "accessed_on": "2019-05-29T22:04:00",
          "available_bikes": 1361
         },
         {
          "accessed_on": "2019-05-29T22:03:00",
          "available_bikes": 1361
         },
         {
          "accessed_on": "2019-05-29T22:02:00",
          "available_bikes": 1359
         },
         {
          "accessed_on": "2019-05-29T22:01:00",
          "available_bikes": 1362
         },
         {
          "accessed_on": "2019-05-29T22:00:00",
          "available_bikes": 1361
         },
         {
          "accessed_on": "2019-05-29T21:59:00",
          "available_bikes": 1358
         },
         {
          "accessed_on": "2019-05-29T21:58:00",
          "available_bikes": 1362
         },
         {
          "accessed_on": "2019-05-29T21:57:00",
          "available_bikes": 1358
         },
         {
          "accessed_on": "2019-05-29T21:56:00",
          "available_bikes": 1359
         },
         {
          "accessed_on": "2019-05-29T21:54:00",
          "available_bikes": 1358
         },
         {
          "accessed_on": "2019-05-29T21:53:00",
          "available_bikes": 1361
         },
         {
          "accessed_on": "2019-05-29T21:52:00",
          "available_bikes": 1360
         },
         {
          "accessed_on": "2019-05-29T21:51:00",
          "available_bikes": 1357
         },
         {
          "accessed_on": "2019-05-29T21:50:00",
          "available_bikes": 1360
         },
         {
          "accessed_on": "2019-05-29T21:49:00",
          "available_bikes": 1358
         },
         {
          "accessed_on": "2019-05-29T21:48:00",
          "available_bikes": 1359
         },
         {
          "accessed_on": "2019-05-29T21:47:00",
          "available_bikes": 1354
         },
         {
          "accessed_on": "2019-05-29T21:46:00",
          "available_bikes": 1352
         },
         {
          "accessed_on": "2019-05-29T21:45:00",
          "available_bikes": 1353
         },
         {
          "accessed_on": "2019-05-29T21:44:00",
          "available_bikes": 1353
         },
         {
          "accessed_on": "2019-05-29T21:43:00",
          "available_bikes": 1354
         },
         {
          "accessed_on": "2019-05-29T21:42:00",
          "available_bikes": 1359
         },
         {
          "accessed_on": "2019-05-29T21:41:00",
          "available_bikes": 1354
         },
         {
          "accessed_on": "2019-05-29T21:40:00",
          "available_bikes": 1346
         },
         {
          "accessed_on": "2019-05-29T21:39:00",
          "available_bikes": 1345
         },
         {
          "accessed_on": "2019-05-29T21:38:00",
          "available_bikes": 1345
         },
         {
          "accessed_on": "2019-05-29T21:37:00",
          "available_bikes": 1345
         },
         {
          "accessed_on": "2019-05-29T21:36:00",
          "available_bikes": 1350
         },
         {
          "accessed_on": "2019-05-29T21:34:00",
          "available_bikes": 1348
         },
         {
          "accessed_on": "2019-05-29T21:33:00",
          "available_bikes": 1349
         },
         {
          "accessed_on": "2019-05-29T21:32:00",
          "available_bikes": 1352
         },
         {
          "accessed_on": "2019-05-29T21:31:00",
          "available_bikes": 1348
         },
         {
          "accessed_on": "2019-05-29T21:30:00",
          "available_bikes": 1350
         },
         {
          "accessed_on": "2019-05-29T21:28:00",
          "available_bikes": 1353
         },
         {
          "accessed_on": "2019-05-29T21:27:00",
          "available_bikes": 1357
         },
         {
          "accessed_on": "2019-05-29T21:26:00",
          "available_bikes": 1357
         },
         {
          "accessed_on": "2019-05-29T21:25:00",
          "available_bikes": 1358
         },
         {
          "accessed_on": "2019-05-29T21:24:00",
          "available_bikes": 1356
         },
         {
          "accessed_on": "2019-05-29T21:23:00",
          "available_bikes": 1364
         },
         {
          "accessed_on": "2019-05-29T21:22:00",
          "available_bikes": 1367
         },
         {
          "accessed_on": "2019-05-29T21:21:00",
          "available_bikes": 1365
         },
         {
          "accessed_on": "2019-05-29T21:19:00",
          "available_bikes": 1363
         },
         {
          "accessed_on": "2019-05-29T21:18:00",
          "available_bikes": 1365
         },
         {
          "accessed_on": "2019-05-29T21:17:00",
          "available_bikes": 1367
         },
         {
          "accessed_on": "2019-05-29T21:16:00",
          "available_bikes": 1368
         },
         {
          "accessed_on": "2019-05-29T21:15:00",
          "available_bikes": 1368
         },
         {
          "accessed_on": "2019-05-29T21:14:00",
          "available_bikes": 1368
         },
         {
          "accessed_on": "2019-05-29T21:13:00",
          "available_bikes": 1367
         },
         {
          "accessed_on": "2019-05-29T21:12:00",
          "available_bikes": 1367
         },
         {
          "accessed_on": "2019-05-29T21:11:00",
          "available_bikes": 1371
         },
         {
          "accessed_on": "2019-05-29T21:10:00",
          "available_bikes": 1370
         },
         {
          "accessed_on": "2019-05-29T21:09:00",
          "available_bikes": 1375
         },
         {
          "accessed_on": "2019-05-29T21:08:00",
          "available_bikes": 1376
         },
         {
          "accessed_on": "2019-05-29T21:07:00",
          "available_bikes": 1374
         },
         {
          "accessed_on": "2019-05-29T21:06:00",
          "available_bikes": 1368
         },
         {
          "accessed_on": "2019-05-29T21:05:00",
          "available_bikes": 1370
         },
         {
          "accessed_on": "2019-05-29T21:04:00",
          "available_bikes": 1370
         },
         {
          "accessed_on": "2019-05-29T21:03:00",
          "available_bikes": 1362
         },
         {
          "accessed_on": "2019-05-29T21:02:00",
          "available_bikes": 1363
         },
         {
          "accessed_on": "2019-05-29T21:01:00",
          "available_bikes": 1353
         },
         {
          "accessed_on": "2019-05-29T21:00:00",
          "available_bikes": 1353
         },
         {
          "accessed_on": "2019-05-29T20:59:00",
          "available_bikes": 1355
         },
         {
          "accessed_on": "2019-05-29T20:58:00",
          "available_bikes": 1354
         },
         {
          "accessed_on": "2019-05-29T20:57:00",
          "available_bikes": 1356
         },
         {
          "accessed_on": "2019-05-29T20:56:00",
          "available_bikes": 1356
         },
         {
          "accessed_on": "2019-05-29T20:55:00",
          "available_bikes": 1357
         },
         {
          "accessed_on": "2019-05-29T20:54:00",
          "available_bikes": 1359
         },
         {
          "accessed_on": "2019-05-29T20:53:00",
          "available_bikes": 1364
         },
         {
          "accessed_on": "2019-05-29T20:52:00",
          "available_bikes": 1369
         },
         {
          "accessed_on": "2019-05-29T20:51:00",
          "available_bikes": 1362
         },
         {
          "accessed_on": "2019-05-29T20:50:00",
          "available_bikes": 1360
         },
         {
          "accessed_on": "2019-05-29T20:49:00",
          "available_bikes": 1369
         },
         {
          "accessed_on": "2019-05-29T20:47:00",
          "available_bikes": 1371
         },
         {
          "accessed_on": "2019-05-29T20:46:00",
          "available_bikes": 1371
         },
         {
          "accessed_on": "2019-05-29T20:45:00",
          "available_bikes": 1365
         },
         {
          "accessed_on": "2019-05-29T20:44:00",
          "available_bikes": 1360
         },
         {
          "accessed_on": "2019-05-29T20:43:00",
          "available_bikes": 1360
         },
         {
          "accessed_on": "2019-05-29T20:42:00",
          "available_bikes": 1357
         },
         {
          "accessed_on": "2019-05-29T20:41:00",
          "available_bikes": 1357
         },
         {
          "accessed_on": "2019-05-29T20:39:00",
          "available_bikes": 1367
         },
         {
          "accessed_on": "2019-05-29T20:38:00",
          "available_bikes": 1366
         },
         {
          "accessed_on": "2019-05-29T20:37:00",
          "available_bikes": 1370
         },
         {
          "accessed_on": "2019-05-29T20:36:00",
          "available_bikes": 1365
         },
         {
          "accessed_on": "2019-05-29T20:35:00",
          "available_bikes": 1367
         },
         {
          "accessed_on": "2019-05-29T20:34:00",
          "available_bikes": 1370
         },
         {
          "accessed_on": "2019-05-29T20:33:00",
          "available_bikes": 1369
         },
         {
          "accessed_on": "2019-05-29T20:32:00",
          "available_bikes": 1369
         },
         {
          "accessed_on": "2019-05-29T20:31:00",
          "available_bikes": 1366
         },
         {
          "accessed_on": "2019-05-29T20:30:00",
          "available_bikes": 1361
         },
         {
          "accessed_on": "2019-05-29T20:29:00",
          "available_bikes": 1362
         },
         {
          "accessed_on": "2019-05-29T20:28:00",
          "available_bikes": 1362
         },
         {
          "accessed_on": "2019-05-29T20:27:00",
          "available_bikes": 1359
         },
         {
          "accessed_on": "2019-05-29T20:26:00",
          "available_bikes": 1357
         },
         {
          "accessed_on": "2019-05-29T20:24:00",
          "available_bikes": 1355
         },
         {
          "accessed_on": "2019-05-29T20:23:00",
          "available_bikes": 1357
         },
         {
          "accessed_on": "2019-05-29T20:22:00",
          "available_bikes": 1356
         },
         {
          "accessed_on": "2019-05-29T20:21:00",
          "available_bikes": 1354
         },
         {
          "accessed_on": "2019-05-29T20:20:00",
          "available_bikes": 1357
         },
         {
          "accessed_on": "2019-05-29T20:17:00",
          "available_bikes": 1355
         },
         {
          "accessed_on": "2019-05-29T20:16:00",
          "available_bikes": 1349
         },
         {
          "accessed_on": "2019-05-29T20:15:00",
          "available_bikes": 1349
         },
         {
          "accessed_on": "2019-05-29T20:14:00",
          "available_bikes": 1344
         },
         {
          "accessed_on": "2019-05-29T20:13:00",
          "available_bikes": 1344
         },
         {
          "accessed_on": "2019-05-29T20:12:00",
          "available_bikes": 1344
         },
         {
          "accessed_on": "2019-05-29T20:11:00",
          "available_bikes": 1339
         },
         {
          "accessed_on": "2019-05-29T20:09:00",
          "available_bikes": 1339
         },
         {
          "accessed_on": "2019-05-29T20:08:00",
          "available_bikes": 1334
         },
         {
          "accessed_on": "2019-05-29T20:07:00",
          "available_bikes": 1335
         },
         {
          "accessed_on": "2019-05-29T20:06:00",
          "available_bikes": 1334
         },
         {
          "accessed_on": "2019-05-29T20:05:00",
          "available_bikes": 1331
         },
         {
          "accessed_on": "2019-05-29T20:04:00",
          "available_bikes": 1330
         },
         {
          "accessed_on": "2019-05-29T20:03:00",
          "available_bikes": 1330
         },
         {
          "accessed_on": "2019-05-29T20:02:00",
          "available_bikes": 1328
         },
         {
          "accessed_on": "2019-05-29T20:01:00",
          "available_bikes": 1331
         },
         {
          "accessed_on": "2019-05-29T20:00:00",
          "available_bikes": 1329
         },
         {
          "accessed_on": "2019-05-29T19:59:00",
          "available_bikes": 1329
         },
         {
          "accessed_on": "2019-05-29T19:58:00",
          "available_bikes": 1326
         },
         {
          "accessed_on": "2019-05-29T19:57:00",
          "available_bikes": 1322
         },
         {
          "accessed_on": "2019-05-29T19:56:00",
          "available_bikes": 1322
         },
         {
          "accessed_on": "2019-05-29T19:55:00",
          "available_bikes": 1321
         },
         {
          "accessed_on": "2019-05-29T19:54:00",
          "available_bikes": 1317
         },
         {
          "accessed_on": "2019-05-29T19:53:00",
          "available_bikes": 1323
         },
         {
          "accessed_on": "2019-05-29T19:52:00",
          "available_bikes": 1327
         },
         {
          "accessed_on": "2019-05-29T19:51:00",
          "available_bikes": 1328
         },
         {
          "accessed_on": "2019-05-29T19:50:00",
          "available_bikes": 1330
         },
         {
          "accessed_on": "2019-05-29T19:49:00",
          "available_bikes": 1334
         },
         {
          "accessed_on": "2019-05-29T19:47:00",
          "available_bikes": 1331
         },
         {
          "accessed_on": "2019-05-29T19:46:00",
          "available_bikes": 1328
         },
         {
          "accessed_on": "2019-05-29T19:45:00",
          "available_bikes": 1327
         },
         {
          "accessed_on": "2019-05-29T19:44:00",
          "available_bikes": 1327
         },
         {
          "accessed_on": "2019-05-29T19:43:00",
          "available_bikes": 1325
         },
         {
          "accessed_on": "2019-05-29T19:42:00",
          "available_bikes": 1323
         },
         {
          "accessed_on": "2019-05-29T19:41:00",
          "available_bikes": 1326
         },
         {
          "accessed_on": "2019-05-29T19:40:00",
          "available_bikes": 1329
         },
         {
          "accessed_on": "2019-05-29T19:39:00",
          "available_bikes": 1329
         },
         {
          "accessed_on": "2019-05-29T19:38:00",
          "available_bikes": 1328
         },
         {
          "accessed_on": "2019-05-29T19:37:00",
          "available_bikes": 1331
         },
         {
          "accessed_on": "2019-05-29T19:36:00",
          "available_bikes": 1328
         },
         {
          "accessed_on": "2019-05-29T19:35:00",
          "available_bikes": 1327
         },
         {
          "accessed_on": "2019-05-29T19:34:00",
          "available_bikes": 1321
         },
         {
          "accessed_on": "2019-05-29T19:33:00",
          "available_bikes": 1317
         },
         {
          "accessed_on": "2019-05-29T19:32:00",
          "available_bikes": 1317
         },
         {
          "accessed_on": "2019-05-29T19:31:00",
          "available_bikes": 1317
         },
         {
          "accessed_on": "2019-05-29T19:30:00",
          "available_bikes": 1317
         },
         {
          "accessed_on": "2019-05-29T19:29:00",
          "available_bikes": 1320
         },
         {
          "accessed_on": "2019-05-29T19:28:00",
          "available_bikes": 1321
         },
         {
          "accessed_on": "2019-05-29T19:27:00",
          "available_bikes": 1324
         },
         {
          "accessed_on": "2019-05-29T19:26:00",
          "available_bikes": 1323
         },
         {
          "accessed_on": "2019-05-29T19:25:00",
          "available_bikes": 1323
         },
         {
          "accessed_on": "2019-05-29T19:24:00",
          "available_bikes": 1322
         },
         {
          "accessed_on": "2019-05-29T19:23:00",
          "available_bikes": 1323
         },
         {
          "accessed_on": "2019-05-29T19:22:00",
          "available_bikes": 1319
         },
         {
          "accessed_on": "2019-05-29T19:20:00",
          "available_bikes": 1317
         },
         {
          "accessed_on": "2019-05-29T19:19:00",
          "available_bikes": 1317
         },
         {
          "accessed_on": "2019-05-29T19:18:00",
          "available_bikes": 1306
         },
         {
          "accessed_on": "2019-05-29T19:17:00",
          "available_bikes": 1307
         },
         {
          "accessed_on": "2019-05-29T19:16:00",
          "available_bikes": 1307
         },
         {
          "accessed_on": "2019-05-29T19:15:00",
          "available_bikes": 1313
         },
         {
          "accessed_on": "2019-05-29T19:14:00",
          "available_bikes": 1316
         },
         {
          "accessed_on": "2019-05-29T19:13:00",
          "available_bikes": 1316
         },
         {
          "accessed_on": "2019-05-29T19:12:00",
          "available_bikes": 1312
         },
         {
          "accessed_on": "2019-05-29T19:11:00",
          "available_bikes": 1306
         },
         {
          "accessed_on": "2019-05-29T19:09:00",
          "available_bikes": 1298
         },
         {
          "accessed_on": "2019-05-29T19:08:00",
          "available_bikes": 1300
         },
         {
          "accessed_on": "2019-05-29T19:07:00",
          "available_bikes": 1304
         },
         {
          "accessed_on": "2019-05-29T19:06:00",
          "available_bikes": 1303
         },
         {
          "accessed_on": "2019-05-29T19:05:00",
          "available_bikes": 1304
         },
         {
          "accessed_on": "2019-05-29T19:04:00",
          "available_bikes": 1305
         },
         {
          "accessed_on": "2019-05-29T19:03:00",
          "available_bikes": 1307
         },
         {
          "accessed_on": "2019-05-29T19:01:00",
          "available_bikes": 1310
         },
         {
          "accessed_on": "2019-05-29T19:00:00",
          "available_bikes": 1312
         },
         {
          "accessed_on": "2019-05-29T18:59:00",
          "available_bikes": 1320
         },
         {
          "accessed_on": "2019-05-29T18:58:00",
          "available_bikes": 1320
         },
         {
          "accessed_on": "2019-05-29T18:57:00",
          "available_bikes": 1316
         },
         {
          "accessed_on": "2019-05-29T18:56:00",
          "available_bikes": 1315
         },
         {
          "accessed_on": "2019-05-29T18:55:00",
          "available_bikes": 1318
         },
         {
          "accessed_on": "2019-05-29T18:54:00",
          "available_bikes": 1310
         },
         {
          "accessed_on": "2019-05-29T18:53:00",
          "available_bikes": 1314
         },
         {
          "accessed_on": "2019-05-29T18:51:00",
          "available_bikes": 1315
         },
         {
          "accessed_on": "2019-05-29T18:50:00",
          "available_bikes": 1316
         },
         {
          "accessed_on": "2019-05-29T18:49:00",
          "available_bikes": 1314
         },
         {
          "accessed_on": "2019-05-29T18:48:00",
          "available_bikes": 1313
         },
         {
          "accessed_on": "2019-05-29T18:47:00",
          "available_bikes": 1315
         },
         {
          "accessed_on": "2019-05-29T18:46:00",
          "available_bikes": 1316
         },
         {
          "accessed_on": "2019-05-29T18:44:00",
          "available_bikes": 1315
         },
         {
          "accessed_on": "2019-05-29T18:43:00",
          "available_bikes": 1321
         },
         {
          "accessed_on": "2019-05-29T18:42:00",
          "available_bikes": 1316
         },
         {
          "accessed_on": "2019-05-29T18:41:00",
          "available_bikes": 1316
         },
         {
          "accessed_on": "2019-05-29T18:40:00",
          "available_bikes": 1319
         },
         {
          "accessed_on": "2019-05-29T18:39:00",
          "available_bikes": 1324
         },
         {
          "accessed_on": "2019-05-29T18:38:00",
          "available_bikes": 1324
         },
         {
          "accessed_on": "2019-05-29T18:37:00",
          "available_bikes": 1323
         },
         {
          "accessed_on": "2019-05-29T18:36:00",
          "available_bikes": 1322
         },
         {
          "accessed_on": "2019-05-29T18:35:00",
          "available_bikes": 1323
         },
         {
          "accessed_on": "2019-05-29T18:34:00",
          "available_bikes": 1317
         },
         {
          "accessed_on": "2019-05-29T18:33:00",
          "available_bikes": 1316
         },
         {
          "accessed_on": "2019-05-29T18:32:00",
          "available_bikes": 1312
         },
         {
          "accessed_on": "2019-05-29T18:31:00",
          "available_bikes": 1312
         },
         {
          "accessed_on": "2019-05-29T18:30:00",
          "available_bikes": 1313
         },
         {
          "accessed_on": "2019-05-29T18:29:00",
          "available_bikes": 1311
         },
         {
          "accessed_on": "2019-05-29T18:28:00",
          "available_bikes": 1309
         },
         {
          "accessed_on": "2019-05-29T18:27:00",
          "available_bikes": 1309
         },
         {
          "accessed_on": "2019-05-29T18:26:00",
          "available_bikes": 1303
         },
         {
          "accessed_on": "2019-05-29T18:25:00",
          "available_bikes": 1303
         },
         {
          "accessed_on": "2019-05-29T18:24:00",
          "available_bikes": 1302
         },
         {
          "accessed_on": "2019-05-29T18:23:00",
          "available_bikes": 1306
         },
         {
          "accessed_on": "2019-05-29T18:22:00",
          "available_bikes": 1312
         },
         {
          "accessed_on": "2019-05-29T18:21:00",
          "available_bikes": 1315
         },
         {
          "accessed_on": "2019-05-29T18:20:00",
          "available_bikes": 1313
         },
         {
          "accessed_on": "2019-05-29T18:19:00",
          "available_bikes": 1310
         },
         {
          "accessed_on": "2019-05-29T18:18:00",
          "available_bikes": 1309
         },
         {
          "accessed_on": "2019-05-29T18:17:00",
          "available_bikes": 1309
         },
         {
          "accessed_on": "2019-05-29T18:16:00",
          "available_bikes": 1306
         },
         {
          "accessed_on": "2019-05-29T18:15:00",
          "available_bikes": 1309
         },
         {
          "accessed_on": "2019-05-29T18:14:00",
          "available_bikes": 1307
         },
         {
          "accessed_on": "2019-05-29T18:13:00",
          "available_bikes": 1305
         },
         {
          "accessed_on": "2019-05-29T18:12:00",
          "available_bikes": 1305
         },
         {
          "accessed_on": "2019-05-29T18:11:00",
          "available_bikes": 1300
         },
         {
          "accessed_on": "2019-05-29T18:09:00",
          "available_bikes": 1302
         },
         {
          "accessed_on": "2019-05-29T18:08:00",
          "available_bikes": 1305
         },
         {
          "accessed_on": "2019-05-29T18:07:00",
          "available_bikes": 1308
         },
         {
          "accessed_on": "2019-05-29T18:06:00",
          "available_bikes": 1311
         },
         {
          "accessed_on": "2019-05-29T18:05:00",
          "available_bikes": 1310
         },
         {
          "accessed_on": "2019-05-29T18:04:00",
          "available_bikes": 1311
         },
         {
          "accessed_on": "2019-05-29T18:03:00",
          "available_bikes": 1311
         },
         {
          "accessed_on": "2019-05-29T18:01:00",
          "available_bikes": 1312
         },
         {
          "accessed_on": "2019-05-29T18:00:00",
          "available_bikes": 1305
         },
         {
          "accessed_on": "2019-05-29T17:59:00",
          "available_bikes": 1304
         },
         {
          "accessed_on": "2019-05-29T17:58:00",
          "available_bikes": 1302
         },
         {
          "accessed_on": "2019-05-29T17:57:00",
          "available_bikes": 1305
         },
         {
          "accessed_on": "2019-05-29T17:56:00",
          "available_bikes": 1305
         },
         {
          "accessed_on": "2019-05-29T17:54:00",
          "available_bikes": 1308
         },
         {
          "accessed_on": "2019-05-29T17:53:00",
          "available_bikes": 1310
         },
         {
          "accessed_on": "2019-05-29T17:52:00",
          "available_bikes": 1311
         },
         {
          "accessed_on": "2019-05-29T17:51:00",
          "available_bikes": 1311
         },
         {
          "accessed_on": "2019-05-29T17:50:00",
          "available_bikes": 1308
         },
         {
          "accessed_on": "2019-05-29T17:49:00",
          "available_bikes": 1306
         },
         {
          "accessed_on": "2019-05-29T17:48:00",
          "available_bikes": 1305
         },
         {
          "accessed_on": "2019-05-29T17:46:00",
          "available_bikes": 1300
         },
         {
          "accessed_on": "2019-05-29T17:45:00",
          "available_bikes": 1302
         },
         {
          "accessed_on": "2019-05-29T17:44:00",
          "available_bikes": 1303
         },
         {
          "accessed_on": "2019-05-29T17:43:00",
          "available_bikes": 1299
         },
         {
          "accessed_on": "2019-05-29T17:42:00",
          "available_bikes": 1301
         },
         {
          "accessed_on": "2019-05-29T17:41:00",
          "available_bikes": 1297
         },
         {
          "accessed_on": "2019-05-29T17:39:00",
          "available_bikes": 1295
         },
         {
          "accessed_on": "2019-05-29T17:38:00",
          "available_bikes": 1295
         },
         {
          "accessed_on": "2019-05-29T17:37:00",
          "available_bikes": 1296
         },
         {
          "accessed_on": "2019-05-29T17:36:00",
          "available_bikes": 1293
         },
         {
          "accessed_on": "2019-05-29T17:35:00",
          "available_bikes": 1293
         },
         {
          "accessed_on": "2019-05-29T17:34:00",
          "available_bikes": 1292
         },
         {
          "accessed_on": "2019-05-29T17:33:00",
          "available_bikes": 1292
         },
         {
          "accessed_on": "2019-05-29T17:32:00",
          "available_bikes": 1285
         },
         {
          "accessed_on": "2019-05-29T17:31:00",
          "available_bikes": 1289
         },
         {
          "accessed_on": "2019-05-29T17:30:00",
          "available_bikes": 1289
         },
         {
          "accessed_on": "2019-05-29T17:29:00",
          "available_bikes": 1289
         },
         {
          "accessed_on": "2019-05-29T17:28:00",
          "available_bikes": 1292
         },
         {
          "accessed_on": "2019-05-29T17:27:00",
          "available_bikes": 1292
         },
         {
          "accessed_on": "2019-05-29T17:26:00",
          "available_bikes": 1289
         },
         {
          "accessed_on": "2019-05-29T17:25:00",
          "available_bikes": 1289
         },
         {
          "accessed_on": "2019-05-29T17:24:00",
          "available_bikes": 1289
         },
         {
          "accessed_on": "2019-05-29T17:23:00",
          "available_bikes": 1291
         },
         {
          "accessed_on": "2019-05-29T17:22:00",
          "available_bikes": 1294
         },
         {
          "accessed_on": "2019-05-29T17:21:00",
          "available_bikes": 1300
         },
         {
          "accessed_on": "2019-05-29T17:20:00",
          "available_bikes": 1296
         },
         {
          "accessed_on": "2019-05-29T17:19:00",
          "available_bikes": 1298
         },
         {
          "accessed_on": "2019-05-29T17:18:00",
          "available_bikes": 1296
         },
         {
          "accessed_on": "2019-05-29T17:17:00",
          "available_bikes": 1294
         },
         {
          "accessed_on": "2019-05-29T17:16:00",
          "available_bikes": 1294
         },
         {
          "accessed_on": "2019-05-29T17:15:00",
          "available_bikes": 1295
         },
         {
          "accessed_on": "2019-05-29T17:14:00",
          "available_bikes": 1292
         },
         {
          "accessed_on": "2019-05-29T17:13:00",
          "available_bikes": 1293
         },
         {
          "accessed_on": "2019-05-29T17:12:00",
          "available_bikes": 1291
         },
         {
          "accessed_on": "2019-05-29T17:11:00",
          "available_bikes": 1294
         },
         {
          "accessed_on": "2019-05-29T17:10:00",
          "available_bikes": 1297
         },
         {
          "accessed_on": "2019-05-29T17:09:00",
          "available_bikes": 1297
         },
         {
          "accessed_on": "2019-05-29T17:08:00",
          "available_bikes": 1297
         },
         {
          "accessed_on": "2019-05-29T17:07:00",
          "available_bikes": 1292
         },
         {
          "accessed_on": "2019-05-29T17:06:00",
          "available_bikes": 1294
         },
         {
          "accessed_on": "2019-05-29T17:05:00",
          "available_bikes": 1287
         },
         {
          "accessed_on": "2019-05-29T17:04:00",
          "available_bikes": 1283
         },
         {
          "accessed_on": "2019-05-29T17:03:00",
          "available_bikes": 1284
         },
         {
          "accessed_on": "2019-05-29T17:02:00",
          "available_bikes": 1284
         },
         {
          "accessed_on": "2019-05-29T17:01:00",
          "available_bikes": 1280
         },
         {
          "accessed_on": "2019-05-29T17:00:00",
          "available_bikes": 1280
         },
         {
          "accessed_on": "2019-05-29T16:59:00",
          "available_bikes": 1281
         },
         {
          "accessed_on": "2019-05-29T16:58:00",
          "available_bikes": 1283
         },
         {
          "accessed_on": "2019-05-29T16:57:00",
          "available_bikes": 1282
         },
         {
          "accessed_on": "2019-05-29T16:56:00",
          "available_bikes": 1284
         },
         {
          "accessed_on": "2019-05-29T16:55:00",
          "available_bikes": 1281
         },
         {
          "accessed_on": "2019-05-29T16:54:00",
          "available_bikes": 1288
         },
         {
          "accessed_on": "2019-05-29T16:52:00",
          "available_bikes": 1285
         },
         {
          "accessed_on": "2019-05-29T16:51:00",
          "available_bikes": 1289
         },
         {
          "accessed_on": "2019-05-29T16:50:00",
          "available_bikes": 1286
         },
         {
          "accessed_on": "2019-05-29T16:49:00",
          "available_bikes": 1282
         },
         {
          "accessed_on": "2019-05-29T16:48:00",
          "available_bikes": 1278
         },
         {
          "accessed_on": "2019-05-29T16:47:00",
          "available_bikes": 1283
         },
         {
          "accessed_on": "2019-05-29T16:46:00",
          "available_bikes": 1282
         },
         {
          "accessed_on": "2019-05-29T16:45:00",
          "available_bikes": 1282
         },
         {
          "accessed_on": "2019-05-29T16:44:00",
          "available_bikes": 1278
         },
         {
          "accessed_on": "2019-05-29T16:43:00",
          "available_bikes": 1278
         },
         {
          "accessed_on": "2019-05-29T16:42:00",
          "available_bikes": 1279
         },
         {
          "accessed_on": "2019-05-29T16:41:00",
          "available_bikes": 1274
         },
         {
          "accessed_on": "2019-05-29T16:40:00",
          "available_bikes": 1272
         },
         {
          "accessed_on": "2019-05-29T16:39:00",
          "available_bikes": 1273
         },
         {
          "accessed_on": "2019-05-29T16:38:00",
          "available_bikes": 1273
         },
         {
          "accessed_on": "2019-05-29T16:36:00",
          "available_bikes": 1269
         },
         {
          "accessed_on": "2019-05-29T16:35:00",
          "available_bikes": 1268
         },
         {
          "accessed_on": "2019-05-29T16:34:00",
          "available_bikes": 1269
         },
         {
          "accessed_on": "2019-05-29T16:33:00",
          "available_bikes": 1272
         },
         {
          "accessed_on": "2019-05-29T16:32:00",
          "available_bikes": 1272
         },
         {
          "accessed_on": "2019-05-29T16:31:00",
          "available_bikes": 1272
         },
         {
          "accessed_on": "2019-05-29T16:30:00",
          "available_bikes": 1275
         },
         {
          "accessed_on": "2019-05-29T16:27:00",
          "available_bikes": 1273
         },
         {
          "accessed_on": "2019-05-29T16:26:00",
          "available_bikes": 1271
         },
         {
          "accessed_on": "2019-05-29T16:25:00",
          "available_bikes": 1270
         },
         {
          "accessed_on": "2019-05-29T16:24:00",
          "available_bikes": 1268
         },
         {
          "accessed_on": "2019-05-29T16:23:00",
          "available_bikes": 1261
         },
         {
          "accessed_on": "2019-05-29T16:22:00",
          "available_bikes": 1253
         },
         {
          "accessed_on": "2019-05-29T16:21:00",
          "available_bikes": 1256
         },
         {
          "accessed_on": "2019-05-29T16:20:00",
          "available_bikes": 1256
         },
         {
          "accessed_on": "2019-05-29T16:19:00",
          "available_bikes": 1254
         },
         {
          "accessed_on": "2019-05-29T16:18:00",
          "available_bikes": 1254
         },
         {
          "accessed_on": "2019-05-29T16:17:00",
          "available_bikes": 1258
         },
         {
          "accessed_on": "2019-05-29T16:16:00",
          "available_bikes": 1253
         },
         {
          "accessed_on": "2019-05-29T16:15:00",
          "available_bikes": 1255
         },
         {
          "accessed_on": "2019-05-29T16:14:00",
          "available_bikes": 1257
         },
         {
          "accessed_on": "2019-05-29T16:13:00",
          "available_bikes": 1257
         },
         {
          "accessed_on": "2019-05-29T16:12:00",
          "available_bikes": 1260
         },
         {
          "accessed_on": "2019-05-29T16:11:00",
          "available_bikes": 1263
         },
         {
          "accessed_on": "2019-05-29T16:10:00",
          "available_bikes": 1262
         },
         {
          "accessed_on": "2019-05-29T16:09:00",
          "available_bikes": 1262
         },
         {
          "accessed_on": "2019-05-29T16:08:00",
          "available_bikes": 1258
         },
         {
          "accessed_on": "2019-05-29T16:07:00",
          "available_bikes": 1256
         },
         {
          "accessed_on": "2019-05-29T16:06:00",
          "available_bikes": 1257
         },
         {
          "accessed_on": "2019-05-29T16:05:00",
          "available_bikes": 1255
         },
         {
          "accessed_on": "2019-05-29T16:04:00",
          "available_bikes": 1253
         },
         {
          "accessed_on": "2019-05-29T16:03:00",
          "available_bikes": 1258
         },
         {
          "accessed_on": "2019-05-29T16:02:00",
          "available_bikes": 1258
         },
         {
          "accessed_on": "2019-05-29T16:01:00",
          "available_bikes": 1253
         },
         {
          "accessed_on": "2019-05-29T16:00:00",
          "available_bikes": 1257
         },
         {
          "accessed_on": "2019-05-29T15:59:00",
          "available_bikes": 1254
         },
         {
          "accessed_on": "2019-05-29T15:58:00",
          "available_bikes": 1248
         },
         {
          "accessed_on": "2019-05-29T15:57:00",
          "available_bikes": 1248
         },
         {
          "accessed_on": "2019-05-29T15:56:00",
          "available_bikes": 1245
         },
         {
          "accessed_on": "2019-05-29T15:55:00",
          "available_bikes": 1237
         },
         {
          "accessed_on": "2019-05-29T15:53:00",
          "available_bikes": 1236
         },
         {
          "accessed_on": "2019-05-29T15:52:00",
          "available_bikes": 1244
         },
         {
          "accessed_on": "2019-05-29T15:51:00",
          "available_bikes": 1245
         },
         {
          "accessed_on": "2019-05-29T15:50:00",
          "available_bikes": 1245
         },
         {
          "accessed_on": "2019-05-29T15:49:00",
          "available_bikes": 1244
         },
         {
          "accessed_on": "2019-05-29T15:48:00",
          "available_bikes": 1244
         },
         {
          "accessed_on": "2019-05-29T15:47:00",
          "available_bikes": 1242
         },
         {
          "accessed_on": "2019-05-29T15:46:00",
          "available_bikes": 1240
         },
         {
          "accessed_on": "2019-05-29T15:45:00",
          "available_bikes": 1244
         },
         {
          "accessed_on": "2019-05-29T15:44:00",
          "available_bikes": 1248
         },
         {
          "accessed_on": "2019-05-29T15:43:00",
          "available_bikes": 1245
         },
         {
          "accessed_on": "2019-05-29T15:42:00",
          "available_bikes": 1244
         },
         {
          "accessed_on": "2019-05-29T15:41:00",
          "available_bikes": 1241
         },
         {
          "accessed_on": "2019-05-29T15:40:00",
          "available_bikes": 1240
         },
         {
          "accessed_on": "2019-05-29T15:39:00",
          "available_bikes": 1240
         },
         {
          "accessed_on": "2019-05-29T15:38:00",
          "available_bikes": 1242
         },
         {
          "accessed_on": "2019-05-29T15:37:00",
          "available_bikes": 1244
         },
         {
          "accessed_on": "2019-05-29T15:36:00",
          "available_bikes": 1244
         },
         {
          "accessed_on": "2019-05-29T15:35:00",
          "available_bikes": 1247
         },
         {
          "accessed_on": "2019-05-29T15:34:00",
          "available_bikes": 1244
         },
         {
          "accessed_on": "2019-05-29T15:33:00",
          "available_bikes": 1243
         },
         {
          "accessed_on": "2019-05-29T15:32:00",
          "available_bikes": 1235
         },
         {
          "accessed_on": "2019-05-29T15:31:00",
          "available_bikes": 1235
         },
         {
          "accessed_on": "2019-05-29T15:30:00",
          "available_bikes": 1240
         },
         {
          "accessed_on": "2019-05-29T15:29:00",
          "available_bikes": 1230
         },
         {
          "accessed_on": "2019-05-29T15:28:00",
          "available_bikes": 1230
         },
         {
          "accessed_on": "2019-05-29T15:27:00",
          "available_bikes": 1231
         },
         {
          "accessed_on": "2019-05-29T15:26:00",
          "available_bikes": 1230
         },
         {
          "accessed_on": "2019-05-29T15:25:00",
          "available_bikes": 1235
         },
         {
          "accessed_on": "2019-05-29T15:24:00",
          "available_bikes": 1237
         },
         {
          "accessed_on": "2019-05-29T15:23:00",
          "available_bikes": 1240
         },
         {
          "accessed_on": "2019-05-29T15:22:00",
          "available_bikes": 1240
         },
         {
          "accessed_on": "2019-05-29T15:21:00",
          "available_bikes": 1244
         },
         {
          "accessed_on": "2019-05-29T15:20:00",
          "available_bikes": 1245
         },
         {
          "accessed_on": "2019-05-29T15:19:00",
          "available_bikes": 1242
         },
         {
          "accessed_on": "2019-05-29T15:18:00",
          "available_bikes": 1242
         },
         {
          "accessed_on": "2019-05-29T15:17:00",
          "available_bikes": 1249
         },
         {
          "accessed_on": "2019-05-29T15:16:00",
          "available_bikes": 1254
         },
         {
          "accessed_on": "2019-05-29T15:15:00",
          "available_bikes": 1256
         },
         {
          "accessed_on": "2019-05-29T15:14:00",
          "available_bikes": 1256
         },
         {
          "accessed_on": "2019-05-29T15:13:00",
          "available_bikes": 1256
         },
         {
          "accessed_on": "2019-05-29T15:12:00",
          "available_bikes": 1253
         },
         {
          "accessed_on": "2019-05-29T15:11:00",
          "available_bikes": 1256
         },
         {
          "accessed_on": "2019-05-29T15:10:00",
          "available_bikes": 1255
         },
         {
          "accessed_on": "2019-05-29T15:09:00",
          "available_bikes": 1254
         },
         {
          "accessed_on": "2019-05-29T15:08:00",
          "available_bikes": 1257
         },
         {
          "accessed_on": "2019-05-29T15:07:00",
          "available_bikes": 1252
         },
         {
          "accessed_on": "2019-05-29T15:06:00",
          "available_bikes": 1256
         },
         {
          "accessed_on": "2019-05-29T15:05:00",
          "available_bikes": 1256
         },
         {
          "accessed_on": "2019-05-29T15:04:00",
          "available_bikes": 1256
         },
         {
          "accessed_on": "2019-05-29T15:03:00",
          "available_bikes": 1256
         },
         {
          "accessed_on": "2019-05-29T15:02:00",
          "available_bikes": 1252
         },
         {
          "accessed_on": "2019-05-29T15:01:00",
          "available_bikes": 1252
         },
         {
          "accessed_on": "2019-05-29T15:00:00",
          "available_bikes": 1251
         },
         {
          "accessed_on": "2019-05-29T14:59:00",
          "available_bikes": 1251
         },
         {
          "accessed_on": "2019-05-29T14:58:00",
          "available_bikes": 1251
         },
         {
          "accessed_on": "2019-05-29T14:57:00",
          "available_bikes": 1243
         },
         {
          "accessed_on": "2019-05-29T14:56:00",
          "available_bikes": 1243
         },
         {
          "accessed_on": "2019-05-29T14:55:00",
          "available_bikes": 1245
         },
         {
          "accessed_on": "2019-05-29T14:54:00",
          "available_bikes": 1244
         },
         {
          "accessed_on": "2019-05-29T14:53:00",
          "available_bikes": 1244
         },
         {
          "accessed_on": "2019-05-29T14:52:00",
          "available_bikes": 1242
         },
         {
          "accessed_on": "2019-05-29T14:51:00",
          "available_bikes": 1238
         },
         {
          "accessed_on": "2019-05-29T14:50:00",
          "available_bikes": 1238
         },
         {
          "accessed_on": "2019-05-29T14:49:00",
          "available_bikes": 1247
         },
         {
          "accessed_on": "2019-05-29T14:48:00",
          "available_bikes": 1254
         },
         {
          "accessed_on": "2019-05-29T14:47:00",
          "available_bikes": 1256
         },
         {
          "accessed_on": "2019-05-29T14:46:00",
          "available_bikes": 1259
         },
         {
          "accessed_on": "2019-05-29T14:45:00",
          "available_bikes": 1259
         },
         {
          "accessed_on": "2019-05-29T14:44:00",
          "available_bikes": 1264
         },
         {
          "accessed_on": "2019-05-29T14:43:00",
          "available_bikes": 1265
         },
         {
          "accessed_on": "2019-05-29T14:42:00",
          "available_bikes": 1267
         },
         {
          "accessed_on": "2019-05-29T14:41:00",
          "available_bikes": 1265
         },
         {
          "accessed_on": "2019-05-29T14:40:00",
          "available_bikes": 1266
         },
         {
          "accessed_on": "2019-05-29T14:38:00",
          "available_bikes": 1268
         },
         {
          "accessed_on": "2019-05-29T14:37:00",
          "available_bikes": 1268
         },
         {
          "accessed_on": "2019-05-29T14:36:00",
          "available_bikes": 1272
         },
         {
          "accessed_on": "2019-05-29T14:35:00",
          "available_bikes": 1270
         },
         {
          "accessed_on": "2019-05-29T14:34:00",
          "available_bikes": 1267
         },
         {
          "accessed_on": "2019-05-29T14:33:00",
          "available_bikes": 1265
         },
         {
          "accessed_on": "2019-05-29T14:32:00",
          "available_bikes": 1268
         },
         {
          "accessed_on": "2019-05-29T14:31:00",
          "available_bikes": 1263
         },
         {
          "accessed_on": "2019-05-29T14:30:00",
          "available_bikes": 1263
         },
         {
          "accessed_on": "2019-05-29T14:29:00",
          "available_bikes": 1262
         },
         {
          "accessed_on": "2019-05-29T14:28:00",
          "available_bikes": 1266
         },
         {
          "accessed_on": "2019-05-29T14:27:00",
          "available_bikes": 1268
         },
         {
          "accessed_on": "2019-05-29T14:26:00",
          "available_bikes": 1270
         },
         {
          "accessed_on": "2019-05-29T14:25:00",
          "available_bikes": 1271
         },
         {
          "accessed_on": "2019-05-29T14:24:00",
          "available_bikes": 1268
         },
         {
          "accessed_on": "2019-05-29T14:23:00",
          "available_bikes": 1272
         },
         {
          "accessed_on": "2019-05-29T14:21:00",
          "available_bikes": 1275
         },
         {
          "accessed_on": "2019-05-29T14:20:00",
          "available_bikes": 1272
         },
         {
          "accessed_on": "2019-05-29T14:19:00",
          "available_bikes": 1280
         },
         {
          "accessed_on": "2019-05-29T14:18:00",
          "available_bikes": 1282
         },
         {
          "accessed_on": "2019-05-29T14:17:00",
          "available_bikes": 1281
         },
         {
          "accessed_on": "2019-05-29T14:16:00",
          "available_bikes": 1279
         },
         {
          "accessed_on": "2019-05-29T14:15:00",
          "available_bikes": 1279
         },
         {
          "accessed_on": "2019-05-29T14:14:00",
          "available_bikes": 1276
         },
         {
          "accessed_on": "2019-05-29T14:13:00",
          "available_bikes": 1276
         },
         {
          "accessed_on": "2019-05-29T14:12:00",
          "available_bikes": 1277
         },
         {
          "accessed_on": "2019-05-29T14:11:00",
          "available_bikes": 1273
         },
         {
          "accessed_on": "2019-05-29T14:10:00",
          "available_bikes": 1279
         },
         {
          "accessed_on": "2019-05-29T14:09:00",
          "available_bikes": 1277
         },
         {
          "accessed_on": "2019-05-29T14:07:00",
          "available_bikes": 1276
         },
         {
          "accessed_on": "2019-05-29T14:06:00",
          "available_bikes": 1275
         },
         {
          "accessed_on": "2019-05-29T14:05:00",
          "available_bikes": 1276
         },
         {
          "accessed_on": "2019-05-29T14:04:00",
          "available_bikes": 1274
         },
         {
          "accessed_on": "2019-05-29T14:03:00",
          "available_bikes": 1271
         },
         {
          "accessed_on": "2019-05-29T14:02:00",
          "available_bikes": 1271
         },
         {
          "accessed_on": "2019-05-29T14:01:00",
          "available_bikes": 1271
         },
         {
          "accessed_on": "2019-05-29T14:00:00",
          "available_bikes": 1273
         },
         {
          "accessed_on": "2019-05-29T13:59:00",
          "available_bikes": 1276
         },
         {
          "accessed_on": "2019-05-29T13:58:00",
          "available_bikes": 1276
         },
         {
          "accessed_on": "2019-05-29T13:56:00",
          "available_bikes": 1278
         },
         {
          "accessed_on": "2019-05-29T13:55:00",
          "available_bikes": 1277
         },
         {
          "accessed_on": "2019-05-29T13:54:00",
          "available_bikes": 1278
         },
         {
          "accessed_on": "2019-05-29T13:53:00",
          "available_bikes": 1275
         },
         {
          "accessed_on": "2019-05-29T13:52:00",
          "available_bikes": 1278
         },
         {
          "accessed_on": "2019-05-29T13:51:00",
          "available_bikes": 1281
         },
         {
          "accessed_on": "2019-05-29T13:50:00",
          "available_bikes": 1280
         },
         {
          "accessed_on": "2019-05-29T13:49:00",
          "available_bikes": 1280
         },
         {
          "accessed_on": "2019-05-29T13:48:00",
          "available_bikes": 1276
         },
         {
          "accessed_on": "2019-05-29T13:47:00",
          "available_bikes": 1278
         },
         {
          "accessed_on": "2019-05-29T13:46:00",
          "available_bikes": 1276
         },
         {
          "accessed_on": "2019-05-29T13:45:00",
          "available_bikes": 1275
         },
         {
          "accessed_on": "2019-05-29T13:44:00",
          "available_bikes": 1274
         },
         {
          "accessed_on": "2019-05-29T13:43:00",
          "available_bikes": 1273
         },
         {
          "accessed_on": "2019-05-29T13:42:00",
          "available_bikes": 1279
         }
        ]
       },
       "encoding": {
        "x": {
         "field": "accessed_on",
         "type": "temporal"
        },
        "y": {
         "field": "available_bikes",
         "type": "quantitative"
        }
       },
       "mark": "line",
       "title": "Available Bikes by Minute in Seattle - Last 24 hours",
       "width": 900
      },
      "image/png": "[encoded data removed]",
      "text/plain": [
       "<VegaLite 3 object>\n",
       "\n",
       "If you see this message, it means the renderer has not been properly enabled\n",
       "for the frontend that you are using. For more information, see\n",
       "https://altair-viz.github.io/user_guide/troubleshooting.html\n"
      ]
     },
     "execution_count": 73,
     "metadata": {},
     "output_type": "execute_result"
    }
   ],
   "source": [
    "import altair as alt\n",
    "\n",
    "(alt.Chart(seattle_bikes.head(24*60), width=900)\n",
    "    .mark_line()\n",
    "    .encode(x='accessed_on',y='available_bikes')\n",
    "    .properties(title='Available Bikes by Minute in Seattle - Last 24 hours')\n",
    ")"
   ]
  },
  {
   "cell_type": "markdown",
   "metadata": {},
   "source": [
    "## 5. Returning results as a GPU dataframe\n",
    "\n",
    "If you analysis doesn't stop at plotting, you can return the results in a cudf GPU DataFrame via pymapd"
   ]
  },
  {
   "cell_type": "code",
   "execution_count": 82,
   "metadata": {},
   "outputs": [],
   "source": [
    "seattle_last_5_mins = f\"\"\"select \n",
    "                         extract(EPOCH from accessed_on) as epoch_seconds, \n",
    "                         name, \n",
    "                         lat, \n",
    "                         lon,\n",
    "                         vehicle_type\n",
    "                         from free_bike_status\n",
    "                         where baseurl = 'http://sea.jumpbikes.com/opendata'\n",
    "                         and accessed_on BETWEEN '{xminsago_}' AND '{now_}'\n",
    "                         and is_reserved = false\n",
    "                       \"\"\""
   ]
  },
  {
   "cell_type": "code",
   "execution_count": 83,
   "metadata": {},
   "outputs": [],
   "source": [
    "seattle_gdf = conn.select_ipc_gpu(seattle_last_5_mins)"
   ]
  },
  {
   "cell_type": "code",
   "execution_count": 84,
   "metadata": {},
   "outputs": [
    {
     "data": {
      "text/plain": [
       "cudf.dataframe.dataframe.DataFrame"
      ]
     },
     "execution_count": 84,
     "metadata": {},
     "output_type": "execute_result"
    }
   ],
   "source": [
    "type(seattle_gdf)"
   ]
  },
  {
   "cell_type": "code",
   "execution_count": 86,
   "metadata": {},
   "outputs": [
    {
     "name": "stdout",
     "output_type": "stream",
     "text": [
      "   epoch_seconds   name                 lat                  lon  vehicle_type\n",
      "0     1559229000  09345   47.62139666666667           -122.29369          bike\n",
      "1     1559229000  08721   47.65327833333333           -122.27696          bike\n",
      "2     1559229000  10429  47.586353333333335  -122.31589333333334          bike\n",
      "3     1559229000  09670           47.608155  -122.34030666666666          bike\n",
      "4     1559229000  10065  47.699779920139406  -122.34350323677063          bike\n"
     ]
    }
   ],
   "source": [
    "print(seattle_gdf.head())"
   ]
  },
  {
   "cell_type": "markdown",
   "metadata": {},
   "source": [
    "## 6. Machine Learning with GPU DataFrames\n",
    "\n",
    "Because GPUs are well-suited to do math operations, they are commonly used for predictive modeling and machine learning. To see how cudf DataFrames can\n",
    "be used to predict electricity demand, see my other video from PyData NYC 2018, where I show how to calculate a linear model using the normal equation. <br>\n",
    "https://www.youtube.com/watch?v=gQszQcFHcZc&t="
   ]
  },
  {
   "cell_type": "code",
   "execution_count": 90,
   "metadata": {},
   "outputs": [
    {
     "data": {
      "text/html": [
       "<iframe width=\"560\" height=\"315\" src=\"https://www.youtube.com/embed/gQszQcFHcZc\" frameborder=\"0\" allow=\"accelerometer; autoplay; encrypted-media; gyroscope; picture-in-picture\" allowfullscreen></iframe>"
      ],
      "text/plain": [
       "<IPython.core.display.HTML object>"
      ]
     },
     "execution_count": 90,
     "metadata": {},
     "output_type": "execute_result"
    }
   ],
   "source": [
    "from IPython.display import HTML\n",
    "HTML('<iframe width=\"560\" height=\"315\" src=\"https://www.youtube.com/embed/gQszQcFHcZc\" frameborder=\"0\" allow=\"accelerometer; autoplay; encrypted-media; gyroscope; picture-in-picture\" allowfullscreen></iframe>')"
   ]
  }
 ],
 "metadata": {
  "kernelspec": {
   "display_name": "Python 3",
   "language": "python",
   "name": "python3"
  },
  "language_info": {
   "codemirror_mode": {
    "name": "ipython",
    "version": 3
   },
   "file_extension": ".py",
   "mimetype": "text/x-python",
   "name": "python",
   "nbconvert_exporter": "python",
   "pygments_lexer": "ipython3",
   "version": "3.7.3"
  },
  "varInspector": {
   "cols": {
    "lenName": 16,
    "lenType": 16,
    "lenVar": 40
   },
   "kernels_config": {
    "python": {
     "delete_cmd_postfix": "",
     "delete_cmd_prefix": "del ",
     "library": "var_list.py",
     "varRefreshCmd": "print(var_dic_list())"
    },
    "r": {
     "delete_cmd_postfix": ") ",
     "delete_cmd_prefix": "rm(",
     "library": "var_list.r",
     "varRefreshCmd": "cat(var_dic_list()) "
    }
   },
   "types_to_exclude": [
    "module",
    "function",
    "builtin_function_or_method",
    "instance",
    "_Feature"
   ],
   "window_display": false
  }
 },
 "nbformat": 4,
 "nbformat_minor": 4
}
