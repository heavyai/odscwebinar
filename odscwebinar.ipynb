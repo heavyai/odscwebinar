{
 "cells": [
  {
   "cell_type": "markdown",
   "metadata": {},
   "source": [
    "# ODSC Webinar: OmniSci and RAPIDS\n",
    "## An End-to-End GPU Data Science Workflow\n",
    "\n",
    "May 30, 2019"
   ]
  },
  {
   "cell_type": "markdown",
   "metadata": {},
   "source": [
    "## 1. Connecting to OmniSciDB (Open Source)\n",
    "https://github.com/omnisci/omniscidb"
   ]
  },
  {
   "cell_type": "code",
   "execution_count": null,
   "metadata": {},
   "outputs": [],
   "source": [
    "#import pymapd to connect to OmniSci\n",
    "#importing pandas is for convenience with the pd.read_sql method\n",
    "import pymapd\n",
    "import pandas as pd\n",
    "from credentials import credentials"
   ]
  },
  {
   "cell_type": "code",
   "execution_count": null,
   "metadata": {},
   "outputs": [],
   "source": [
    "# Connect to OmniSciDB, get list of tables in database\n",
    "conn = pymapd.connect(host=\"localhost\", \n",
    "                      dbname=credentials[\"dbname\"], \n",
    "                      user=credentials[\"user\"], \n",
    "                      password=credentials[\"password\"])\n",
    "\n",
    "conn.get_tables()"
   ]
  },
  {
   "cell_type": "markdown",
   "metadata": {},
   "source": [
    "## 2. Simple query demonstrating data is streaming into OmniSciDB"
   ]
  },
  {
   "cell_type": "code",
   "execution_count": null,
   "metadata": {},
   "outputs": [],
   "source": [
    "import datetime\n",
    "from datetime import timedelta\n",
    "\n",
    "# Create start and end timestamps for substitution\n",
    "now_ = datetime.datetime.now()\n",
    "xminsago_ = datetime.datetime.now() - timedelta(minutes=5)\n",
    "\n",
    "# Query counts number of records inserted in the last X number of minutes\n",
    "query = f\"\"\"\n",
    "SELECT \n",
    "date_trunc(minute, accessed_on) accessed_on,\n",
    "COUNT(*) AS records\n",
    "FROM free_bike_status \n",
    "WHERE accessed_on BETWEEN '{xminsago_}' AND '{now_}' \n",
    "GROUP BY 1\n",
    "ORDER BY 1 DESC\n",
    "\"\"\"\n",
    "\n",
    "# OmniSci gets its speed two ways: high GPU bandwidth/core density & compiling queries with LLVM\n",
    "# First run will be slower because query is compiled and/or data streamed to GPU\n",
    "# Second run on will be fast because data already in GPU memory and query compiled, NOT because result is cached\n",
    "%time df = pd.read_sql(query, conn)"
   ]
  },
  {
   "cell_type": "code",
   "execution_count": null,
   "metadata": {},
   "outputs": [],
   "source": [
    "df"
   ]
  },
  {
   "cell_type": "markdown",
   "metadata": {},
   "source": [
    "## 3. Using Ibis for a pandas-like API over billions of records\n",
    "https://www.omnisci.com/blog/scaling-pandas-to-the-billions-with-ibis-and-mapd/"
   ]
  },
  {
   "cell_type": "code",
   "execution_count": null,
   "metadata": {},
   "outputs": [],
   "source": [
    "#ibis is alternate method for querying using pandas-like API\n",
    "import ibis"
   ]
  },
  {
   "cell_type": "code",
   "execution_count": null,
   "metadata": {},
   "outputs": [],
   "source": [
    "#connection string similar to pymapd\n",
    "ibiscon = ibis.mapd.connect(host=\"localhost\", \n",
    "                            database=credentials[\"dbname\"], \n",
    "                            user=credentials[\"user\"], \n",
    "                            password=credentials[\"password\"],\n",
    "                            port=6274)\n",
    "\n",
    "#can list tables in similar manner as well\n",
    "ibiscon.list_tables()"
   ]
  },
  {
   "cell_type": "code",
   "execution_count": null,
   "metadata": {},
   "outputs": [],
   "source": [
    "#create a table reference\n",
    "#this doesn't bring the data local, Ibis is a lazy-execution engine\n",
    "free_bike_status = ibiscon.table('free_bike_status')"
   ]
  },
  {
   "cell_type": "code",
   "execution_count": null,
   "metadata": {},
   "outputs": [],
   "source": []
  },
  {
   "cell_type": "code",
   "execution_count": null,
   "metadata": {},
   "outputs": [],
   "source": []
  }
 ],
 "metadata": {
  "kernelspec": {
   "display_name": "Python 3",
   "language": "python",
   "name": "python3"
  },
  "language_info": {
   "codemirror_mode": {
    "name": "ipython",
    "version": 3
   },
   "file_extension": ".py",
   "mimetype": "text/x-python",
   "name": "python",
   "nbconvert_exporter": "python",
   "pygments_lexer": "ipython3",
   "version": "3.7.3"
  },
  "varInspector": {
   "cols": {
    "lenName": 16,
    "lenType": 16,
    "lenVar": 40
   },
   "kernels_config": {
    "python": {
     "delete_cmd_postfix": "",
     "delete_cmd_prefix": "del ",
     "library": "var_list.py",
     "varRefreshCmd": "print(var_dic_list())"
    },
    "r": {
     "delete_cmd_postfix": ") ",
     "delete_cmd_prefix": "rm(",
     "library": "var_list.r",
     "varRefreshCmd": "cat(var_dic_list()) "
    }
   },
   "types_to_exclude": [
    "module",
    "function",
    "builtin_function_or_method",
    "instance",
    "_Feature"
   ],
   "window_display": false
  }
 },
 "nbformat": 4,
 "nbformat_minor": 4
}
